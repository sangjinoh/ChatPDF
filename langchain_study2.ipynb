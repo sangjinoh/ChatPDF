{
 "cells": [
  {
   "cell_type": "code",
   "execution_count": 1,
   "metadata": {},
   "outputs": [],
   "source": [
    "from dotenv import load_dotenv\n",
    "load_dotenv()"
   ]
  },
  {
   "cell_type": "code",
   "execution_count": 2,
   "metadata": {},
   "outputs": [],
   "source": [
    "from langchain_openai import ChatOpenAI\n",
    "from langchain.callbacks.streaming_stdout import StreamingStdOutCallbackHandler\n",
    "\n",
    "model = ChatOpenAI(model_name = \"gpt-3.5-turbo\", streaming=True, callbacks=[StreamingStdOutCallbackHandler()], max_tokens = 512)"
   ]
  },
  {
   "cell_type": "markdown",
   "metadata": {},
   "source": [
    "## Prompt Template(1)\n",
    "* PromptTemplate: 일반적인 프롬프트 템플릿을 생성할 때 활용"
   ]
  },
  {
   "cell_type": "code",
   "execution_count": 3,
   "metadata": {},
   "outputs": [
    {
     "data": {
      "text/plain": [
       "'Summarize the following content about 보험: 운전자 보험 상품 약관'"
      ]
     },
     "execution_count": 3,
     "metadata": {},
     "output_type": "execute_result"
    }
   ],
   "source": [
    "from langchain.prompts import PromptTemplate\n",
    "\n",
    "prompt_template = PromptTemplate.from_template(\n",
    "    \"Summarize the following content about {topic}: {content}\"\n",
    ")\n",
    "\n",
    "prompt_template.format(topic=\"보험\", content=\"운전자 보험 상품 약관\")"
   ]
  },
  {
   "cell_type": "code",
   "execution_count": 4,
   "metadata": {},
   "outputs": [
    {
     "data": {
      "text/plain": [
       "'\\n너는 전문 보험 설계사야. 사용자가 궁금해하는 상품의 약관이 어떤 특징을 가지고 있으며, 가입 시 유의할 점은 무엇인지 요약해줘.\\n\\n주제: 보험\\n상세 상품: 운전자 보험\\n'"
      ]
     },
     "execution_count": 4,
     "metadata": {},
     "output_type": "execute_result"
    }
   ],
   "source": [
    "user_template=\"\"\"\n",
    "너는 전문 보험 설계사야. 사용자가 궁금해하는 상품의 약관이 어떤 특징을 가지고 있으며, 가입 시 유의할 점은 무엇인지 요약해줘.\n",
    "\n",
    "주제: {주제}\n",
    "상세 상품: {상품}\n",
    "\"\"\"\n",
    "\n",
    "prompt_template =PromptTemplate(\n",
    "    input_variables = ['주제', '상품'],\n",
    "    template=user_template\n",
    ")\n",
    "\n",
    "prompt_template.format(주제='보험', 상품='운전자 보험')"
   ]
  },
  {
   "cell_type": "code",
   "execution_count": 5,
   "metadata": {},
   "outputs": [
    {
     "name": "stderr",
     "output_type": "stream",
     "text": [
      "/usr/local/lib/python3.11/site-packages/langchain_core/_api/deprecation.py:117: LangChainDeprecationWarning: The function `run` was deprecated in LangChain 0.1.0 and will be removed in 0.2.0. Use invoke instead.\n",
      "  warn_deprecated(\n"
     ]
    },
    {
     "name": "stdout",
     "output_type": "stream",
     "text": [
      "- 운전자 보험은 차량 운전 중 발생할 수 있는 사고 또는 손해에 대한 보호를 제공하는 상품입니다.\n",
      "- 일반적으로 보험 약관에는 보상 범위, 손해 배상 방식, 보상 한도, 보험료 등이 명시되어 있습니다.\n",
      "- 운전자 보험의 특징은 차량 운전 중 발생한 사고 또는 손해에 대한 보상을 제공한다는 점입니다.\n",
      "- 가입 시 유의할 점은 보험 약관을 신중하게 확인하고, 보상 범위와 한도, 보험료를 적절히 선택하는 것입니다.\n",
      "- 또한, 운전 습관에 따라 보험료가 차등 적용될 수 있으므로, 운전 습관을 고려하여 보험 상품을 선택하는 것이 좋습니다.\n",
      "- 필요에 따라 추가적인 선택 사항인 대인/대물/자차/무보험 운전자 보상 등을 포함할 수 있습니다.\n",
      "- 운전자 보험은 차량 운전 중 발생할 수 있는 사고나 손해에 대비하여 경제적인 보호를 제공하는 중요한 상품입니다.- 운전자 보험은 차량 운전 중 발생할 수 있는 사고 또는 손해에 대한 보호를 제공하는 상품입니다.\n",
      "- 일반적으로 보험 약관에는 보상 범위, 손해 배상 방식, 보상 한도, 보험료 등이 명시되어 있습니다.\n",
      "- 운전자 보험의 특징은 차량 운전 중 발생한 사고 또는 손해에 대한 보상을 제공한다는 점입니다.\n",
      "- 가입 시 유의할 점은 보험 약관을 신중하게 확인하고, 보상 범위와 한도, 보험료를 적절히 선택하는 것입니다.\n",
      "- 또한, 운전 습관에 따라 보험료가 차등 적용될 수 있으므로, 운전 습관을 고려하여 보험 상품을 선택하는 것이 좋습니다.\n",
      "- 필요에 따라 추가적인 선택 사항인 대인/대물/자차/무보험 운전자 보상 등을 포함할 수 있습니다.\n",
      "- 운전자 보험은 차량 운전 중 발생할 수 있는 사고나 손해에 대비하여 경제적인 보호를 제공하는 중요한 상품입니다.\n"
     ]
    }
   ],
   "source": [
    "from langchain.chains import LLMChain\n",
    "\n",
    "chain = LLMChain(llm=model, prompt=prompt_template)\n",
    "answer = chain.run(주제='보험', 상품='운전자 보험')\n",
    "\n",
    "print(answer)"
   ]
  },
  {
   "cell_type": "markdown",
   "metadata": {},
   "source": [
    "## Prompt Template(2)\n",
    "* ChatPromptTemplate: 채팅 LLM에 프롬프트를 전달하는 데에 활용할 수 있는 특화 프롬프트 템플릿"
   ]
  },
  {
   "cell_type": "code",
   "execution_count": 6,
   "metadata": {},
   "outputs": [],
   "source": [
    "from langchain.prompts import ChatPromptTemplate, SystemMessagePromptTemplate, AIMessagePromptTemplate, HumanMessagePromptTemplate\n",
    "from langchain.schema import AIMessage, HumanMessage, SystemMessage"
   ]
  },
  {
   "cell_type": "code",
   "execution_count": 7,
   "metadata": {},
   "outputs": [],
   "source": [
    "# 위에서 정의한 user_template를 사용하여 ChatGPT에 역할을 부여한다.\n",
    "system_message_prompt = SystemMessagePromptTemplate.from_template(user_template)"
   ]
  },
  {
   "cell_type": "code",
   "execution_count": 8,
   "metadata": {},
   "outputs": [],
   "source": [
    "# 사용자가 입력할 매개변수 template을 선언한다.\n",
    "human_template = \"{주제}, {상품}\"\n",
    "human_message_prompt = HumanMessagePromptTemplate.from_template(human_template)"
   ]
  },
  {
   "cell_type": "code",
   "execution_count": 9,
   "metadata": {},
   "outputs": [],
   "source": [
    "# ChatPromptTemplate에 system messange와 human message 템플릿을 삽입한다.\n",
    "chat_prompt = ChatPromptTemplate.from_messages([system_message_prompt, human_message_prompt])"
   ]
  },
  {
   "cell_type": "code",
   "execution_count": 10,
   "metadata": {},
   "outputs": [
    {
     "name": "stderr",
     "output_type": "stream",
     "text": [
      "/usr/local/lib/python3.11/site-packages/langchain_core/_api/deprecation.py:117: LangChainDeprecationWarning: The function `__call__` was deprecated in LangChain 0.1.7 and will be removed in 0.2.0. Use invoke instead.\n",
      "  warn_deprecated(\n"
     ]
    },
    {
     "name": "stdout",
     "output_type": "stream",
     "text": [
      "운전자 보험은 자동차 운전자들을 위한 보험 상품으로, 사고나 손해로부터 보호해주는 역할을 합니다. 이 보험의 약관과 유의사항은 다음과 같습니다:\n",
      "\n",
      "1. 보상 범위: 운전자 보험은 자동차 사고로 인한 손해 뿐만 아니라, 도난, 화재, 파손 등의 사고에 대해서도 보상을 제공합니다. 일반적으로 사고로 인한 자동차 수리비, 타인에게 입힌 손해 배상비, 자동차 대여비용 등을 보상해줍니다.\n",
      "\n",
      "2. 보험료 결제: 운전자 보험의 보험료는 일반적으로 매월 또는 매년 결제됩니다. 보험료는 운전자의 연령, 운전 경력, 차량 종류 등에 따라 다를 수 있습니다. 보험료는 정해진 날짜에 결제되어야 보험 계약이 유지됩니다.\n",
      "\n",
      "3. 보험금 지급: 사고 발생 시 보험금을 청구하기 위해서는 사고 내용을 상세히 기록하고 보험사에 신고해야 합니다. 필요한 서류와 절차를 따라야 하며, 보험사의 조사와 평가를 거친 후에 보험금이 지급됩니다.\n",
      "\n",
      "4. 유의사항: 운전자 보험에 가입하기 전에, 보험사의 약관을 자세히 읽어보고 이해해야 합니다. 특히 보상 범위, 보험료 결제일, 보험금 지급 절차 등을 확인해야 합니다."
     ]
    }
   ],
   "source": [
    "# ChatPromptTemplate의 구성요소인 system message와 human message를 전달받아서 대답을 생성한다.\n",
    "answer = model(chat_prompt.format_prompt(주제='보험', 상품='운전자 보험').to_messages())"
   ]
  },
  {
   "cell_type": "markdown",
   "metadata": {},
   "source": [
    "## Few-shot 예제를 통한 프롬프트 템플릿(3)"
   ]
  },
  {
   "cell_type": "code",
   "execution_count": 11,
   "metadata": {},
   "outputs": [],
   "source": [
    "from langchain.prompts.few_shot import FewShotPromptTemplate\n",
    "from langchain.prompts.prompt import PromptTemplate"
   ]
  },
  {
   "cell_type": "code",
   "execution_count": 12,
   "metadata": {},
   "outputs": [],
   "source": [
    "user_examples = [\n",
    "    {\n",
    "        \"question\" : \"'초보'에 이어서 나올 두 글자를 대답해줘.\",\n",
    "        \"answer\" : \"\"\"운전\"\"\"\n",
    "    },\n",
    "    {\n",
    "        \"question\" : \"'중고'에 이어서 나올 두 글자를 대답해줘.\",\n",
    "        \"answer\" : \"\"\"나라\"\"\"\n",
    "    },\n",
    "    {\n",
    "        \"question\" : \"'마요'에 이어서 나올 두 글자를 대답해줘.\",\n",
    "        \"answer\" : \"\"\"네즈\"\"\"\n",
    "    },\n",
    "    {\n",
    "        \"question\" : \"'숨바'에 이어서 나올 두 글자를 대답해줘.\",\n",
    "        \"answer\" : \"\"\"꼭질\"\"\"\n",
    "    },\n",
    "    {\n",
    "        \"question\" : \"'외할'에 이어서 나올 두 글자를 대답해줘.\",\n",
    "        \"answer\" : \"\"\"머니\"\"\"\n",
    "    },\n",
    "    {\n",
    "        \"question\" : \"'아날'에 이어서 나올 두 글자를 대답해줘.\",\n",
    "        \"answer\" : \"\"\"로그\"\"\"\n",
    "    }\n",
    "]"
   ]
  },
  {
   "cell_type": "code",
   "execution_count": 13,
   "metadata": {},
   "outputs": [
    {
     "name": "stdout",
     "output_type": "stream",
     "text": [
      "Question: '초보'에 이어서 나올 두 글자를 대답해줘.\n",
      "운전\n"
     ]
    }
   ],
   "source": [
    "user_example_prompt = PromptTemplate(input_variables=[\"question\", \"answer\"], template=\"Question: {question}\\n{answer}\")\n",
    "print(user_example_prompt.format(**user_examples[0]))"
   ]
  },
  {
   "cell_type": "code",
   "execution_count": 14,
   "metadata": {},
   "outputs": [
    {
     "name": "stdout",
     "output_type": "stream",
     "text": [
      "Question: '초보'에 이어서 나올 두 글자를 대답해줘.\n",
      "운전\n",
      "\n",
      "Question: '중고'에 이어서 나올 두 글자를 대답해줘.\n",
      "나라\n",
      "\n",
      "Question: '마요'에 이어서 나올 두 글자를 대답해줘.\n",
      "네즈\n",
      "\n",
      "Question: '숨바'에 이어서 나올 두 글자를 대답해줘.\n",
      "꼭질\n",
      "\n",
      "Question: '외할'에 이어서 나올 두 글자를 대답해줘.\n",
      "머니\n",
      "\n",
      "Question: '아날'에 이어서 나올 두 글자를 대답해줘.\n",
      "로그\n",
      "\n",
      "Question: '드라'에 이어서 나올 두 글자를 대답해줘.\n"
     ]
    }
   ],
   "source": [
    "prompt = FewShotPromptTemplate(\n",
    "    examples=user_examples,\n",
    "    example_prompt=user_example_prompt,\n",
    "    suffix=\"Question: {input}\",\n",
    "    input_variables=[\"input\"]\n",
    ")\n",
    "\n",
    "print(prompt.format(input=\"'드라'에 이어서 나올 두 글자를 대답해줘.\"))"
   ]
  },
  {
   "cell_type": "code",
   "execution_count": 15,
   "metadata": {},
   "outputs": [
    {
     "name": "stdout",
     "output_type": "stream",
     "text": [
      "'드라'에 이어서 나올 두 글자는 '마'입니다."
     ]
    },
    {
     "data": {
      "text/plain": [
       "AIMessage(content=\"'드라'에 이어서 나올 두 글자는 '마'입니다.\")"
      ]
     },
     "execution_count": 15,
     "metadata": {},
     "output_type": "execute_result"
    }
   ],
   "source": [
    "model.invoke(\"'드라'에 이어서 나올 두 글자를 대답해줘.\")"
   ]
  },
  {
   "cell_type": "code",
   "execution_count": 16,
   "metadata": {},
   "outputs": [
    {
     "name": "stdout",
     "output_type": "stream",
     "text": [
      "마마"
     ]
    },
    {
     "data": {
      "text/plain": [
       "AIMessage(content='마마')"
      ]
     },
     "execution_count": 16,
     "metadata": {},
     "output_type": "execute_result"
    }
   ],
   "source": [
    "model.invoke(prompt.format(input=\"'드라'에 이어서 나올 두 글자를 대답해줘.\"))"
   ]
  },
  {
   "cell_type": "markdown",
   "metadata": {},
   "source": [
    "***땡!*** <br>\n",
    "*(틀렸지만 포맷에 맞춰서 틀렸다.)*"
   ]
  },
  {
   "cell_type": "markdown",
   "metadata": {},
   "source": [
    "## Example Selector를 이용한 동적 Few-shot Learning(4)\n",
    "\n",
    "* Few-shot 예제를 동적으로 입력하고 싶은 경우, Example Selector를 활용할 수 있다."
   ]
  },
  {
   "cell_type": "code",
   "execution_count": 17,
   "metadata": {},
   "outputs": [],
   "source": [
    "from langchain.prompts.example_selector import SemanticSimilarityExampleSelector\n",
    "from langchain.vectorstores import Chroma\n",
    "from langchain.embeddings import OpenAIEmbeddings\n",
    "from langchain.prompts import FewShotPromptTemplate, PromptTemplate\n",
    "\n",
    "example_prompt = PromptTemplate(\n",
    "    input_variables=[\"input\", \"output\"],\n",
    "    template=\"Input: {input}\\nOutput: {output}\",\n",
    ")\n",
    "\n",
    "# These are a lot of examples of a pretend task of creating antonyms.\n",
    "examples = [\n",
    "    {\"input\": \"기후 변화 저널에 발표된 새로운 연구는 지난 세기 동안 글로벌 온도가 상당히 증가했으며, 주로 인간 활동, 특히 화석 연료의 연소와 삼림 벌채 때문이라고 지적합니다.\", \n",
    "     \"output\": \"인간 활동으로 인한 화석 연료 사용 및 삼림 벌채가 글로벌 온도 상승의 주요 원인이라는 연구 결과 발표.\"},\n",
    "    {\"input\": \"위대한 개츠비'에서 F. 스콧 피츠제럴드는 5년 전 잃어버린 사랑, 데이지 부캐넌과 재회하기를 희망하며 화려한 파티를 열고 있는 부유하면서도 수수께끼 같은 남자, 제이 개츠비의 이야기를 들려줍니다. 소설은 타락, 이상주의, 변화에 대한 저항, 사회적 혼란 등의 주제를 탐구합니다.\",\n",
    "     \"output\": \"위대한 개츠비'는 잃어버린 사랑 데이지와의 재회를 추구하는 제이 개츠비의 이야기와 타락, 사회 변화 등의 주제를 다룹니다.\"},\n",
    "    {\"input\": \"건강 과학 대학교에서 수행한 연구는 과일과 채소가 풍부한 균형 잡힌 식단이 심장 질환과 당뇨병과 같은 만성 질환의 발병 위험을 크게 낮출 수 있다는 것을 밝혀냈습니다. 이 연구는 전반적인 건강을 유지하는 데 있어 식단 선택의 중요성을 강조합니다.\", \n",
    "     \"output\": \"과일과 채소를 섭취하는 식단이 만성 질환 위험을 줄인다는 연구 결과, 식단이 건강 유지에 중요함을 강조.\"},\n",
    "    {\"input\": \"인터스텔라'는 크리스토퍼 놀란 감독이 인류의 새로운 터전을 찾기 위해 웜홀을 통해 대담한 임무를 수행하는 우주 비행사 그룹의 모험을 그린 숨막히는 공상 과학 영화입니다. 영화는 깊은 감정적 주제와 혁신적인 시각 효과를 결합합니다.\", \n",
    "     \"output\": \"인터스텔라'는 인류의 새로운 터전을 찾는 우주 비행사들의 모험을 다룬 SF 영화로, 감정적 깊이와 시각 효과로 유명합니다.\"},\n",
    "    {\"input\": \"최신 스마트폰 모델 X500은 고해상도 카메라, 오래 지속되는 배터리 수명, 빠른 처리 속도와 같은 뛰어난 기능을 제공합니다. 사용자들은 그것의 슬림한 디자인과 직관적인 사용자 인터페이스를 칭찬하며, 기술 애호가들 사이에서 인기 있는 선택이 되었습니다.\", \n",
    "     \"output\": \"X500 스마트폰은 카메라, 배터리 수명, 속도로 호평 받으며, 슬림한 디자인과 사용자 친화적 인터페이스가 특징입니다.\"},\n",
    "]"
   ]
  },
  {
   "cell_type": "code",
   "execution_count": 18,
   "metadata": {},
   "outputs": [
    {
     "name": "stderr",
     "output_type": "stream",
     "text": [
      "/usr/local/lib/python3.11/site-packages/langchain_core/_api/deprecation.py:117: LangChainDeprecationWarning: The class `langchain_community.embeddings.openai.OpenAIEmbeddings` was deprecated in langchain-community 0.1.0 and will be removed in 0.2.0. An updated version of the class exists in the langchain-openai package and should be used instead. To use it run `pip install -U langchain-openai` and import as `from langchain_openai import OpenAIEmbeddings`.\n",
      "  warn_deprecated(\n"
     ]
    }
   ],
   "source": [
    "example_selector = SemanticSimilarityExampleSelector.from_examples(\n",
    "    # This is the list of examples available to select from.\n",
    "    examples,\n",
    "    # This is the embedding class used to produce embeddings which are used to measure semantic similarity.\n",
    "    OpenAIEmbeddings(),\n",
    "    # This is the VectorStore class that is used to store the embeddings and do a similarity search over.\n",
    "    Chroma,\n",
    "    # This is the number of examples to produce.\n",
    "    k=1\n",
    ")\n",
    "similar_prompt = FewShotPromptTemplate(\n",
    "    # We provide an ExampleSelector instead of examples.\n",
    "    example_selector=example_selector,\n",
    "    example_prompt=example_prompt,\n",
    "    prefix=\"주어진 입력에 대해 짧게 요약해줘.\",\n",
    "    suffix=\"Input: {요약}\\nOutput:\",\n",
    "    input_variables=[\"요약\"],\n",
    ")"
   ]
  },
  {
   "cell_type": "code",
   "execution_count": 19,
   "metadata": {},
   "outputs": [
    {
     "name": "stdout",
     "output_type": "stream",
     "text": [
      "주어진 입력에 대해 짧게 요약해줘.\n",
      "\n",
      "Input: 건강 과학 대학교에서 수행한 연구는 과일과 채소가 풍부한 균형 잡힌 식단이 심장 질환과 당뇨병과 같은 만성 질환의 발병 위험을 크게 낮출 수 있다는 것을 밝혀냈습니다. 이 연구는 전반적인 건강을 유지하는 데 있어 식단 선택의 중요성을 강조합니다.\n",
      "Output: 과일과 채소를 섭취하는 식단이 만성 질환 위험을 줄인다는 연구 결과, 식단이 건강 유지에 중요함을 강조.\n",
      "\n",
      "Input: 본 법률은 데이터 보호 및 개인정보의 안전한 처리를 목적으로 하며, 개인 데이터의 수집, 사용, 전송, 저장 및 삭제에 관한 규정을 담고 있다. 이 법률은 모든 개인 데이터 처리 활동이 데이터 주체의 동의를 기반으로 하며, 데이터 주체는 자신의 개인 데이터에 대한 접근, 정정 및 삭제를 요구할 권리가 있다. 또한, 데이터 처리자는 데이터 보호 원칙을 준수하고, 필요한 보안 조치를 취하여 개인 데이터를 보호해야 한다. 위반 시에는 법적 책임을 질 수 있으며, 해당 규정을 위반하여 발생하는 모든 손해에 대한 배상 책임이 있다.\n",
      "Output:\n"
     ]
    }
   ],
   "source": [
    "# Input is a feeling, so should select the happy/sad example\n",
    "print(similar_prompt.format(요약=\"본 법률은 데이터 보호 및 개인정보의 안전한 처리를 목적으로 하며, 개인 데이터의 수집, 사용, 전송, 저장 및 삭제에 관한 규정을 담고 있다. 이 법률은 모든 개인 데이터 처리 활동이 데이터 주체의 동의를 기반으로 하며, 데이터 주체는 자신의 개인 데이터에 대한 접근, 정정 및 삭제를 요구할 권리가 있다. 또한, 데이터 처리자는 데이터 보호 원칙을 준수하고, 필요한 보안 조치를 취하여 개인 데이터를 보호해야 한다. 위반 시에는 법적 책임을 질 수 있으며, 해당 규정을 위반하여 발생하는 모든 손해에 대한 배상 책임이 있다.\"))"
   ]
  },
  {
   "cell_type": "code",
   "execution_count": 20,
   "metadata": {},
   "outputs": [
    {
     "name": "stdout",
     "output_type": "stream",
     "text": [
      "본 법률은 개인정보 보호를 목적으로 하며, 개인 데이터 처리에 대한 규정을 담고 있다. 법을 위반하면 책임을 져야 하며, 개인 데이터 보호를 위한 조치를 취해야 한다."
     ]
    },
    {
     "data": {
      "text/plain": [
       "AIMessage(content='본 법률은 개인정보 보호를 목적으로 하며, 개인 데이터 처리에 대한 규정을 담고 있다. 법을 위반하면 책임을 져야 하며, 개인 데이터 보호를 위한 조치를 취해야 한다.')"
      ]
     },
     "execution_count": 20,
     "metadata": {},
     "output_type": "execute_result"
    }
   ],
   "source": [
    "query = \"본 법률은 데이터 보호 및 개인정보의 안전한 처리를 목적으로 하며, 개인 데이터의 수집, 사용, 전송, 저장 및 삭제에 관한 규정을 담고 있다. 이 법률은 모든 개인 데이터 처리 활동이 데이터 주체의 동의를 기반으로 하며, 데이터 주체는 자신의 개인 데이터에 대한 접근, 정정 및 삭제를 요구할 권리가 있다. 또한, 데이터 처리자는 데이터 보호 원칙을 준수하고, 필요한 보안 조치를 취하여 개인 데이터를 보호해야 한다. 위반 시에는 법적 책임을 질 수 있으며, 해당 규정을 위반하여 발생하는 모든 손해에 대한 배상 책임이 있다.\"\n",
    "\n",
    "model.invoke(similar_prompt.format(요약=query))"
   ]
  },
  {
   "cell_type": "markdown",
   "metadata": {},
   "source": [
    "## Partial Prompt Template(5)"
   ]
  },
  {
   "cell_type": "code",
   "execution_count": 21,
   "metadata": {},
   "outputs": [],
   "source": [
    "from datetime import datetime\n",
    "\n",
    "def _get_datetime():\n",
    "    now = datetime.now()\n",
    "    return now.strftime(\"%Y/%m/%d\")"
   ]
  },
  {
   "cell_type": "code",
   "execution_count": 22,
   "metadata": {},
   "outputs": [
    {
     "name": "stdout",
     "output_type": "stream",
     "text": [
      "특별한 날: 행복한 하루의 날짜: 2024/02/11\n"
     ]
    }
   ],
   "source": [
    "# 방법 1: partial 메서드를 사용하여 객체 생성 후 date 변수를 미리 선언하고, adjective 변수는 format 호출 시 선언한다.\n",
    "prompt = PromptTemplate(\n",
    "    template=\"특별한 날: {adjective} 날짜: {date}\",\n",
    "    input_variables=[\"adjective\", \"date\"],\n",
    ")\n",
    "partial_prompt = prompt.partial(date=_get_datetime)\n",
    "print(partial_prompt.format(adjective=\"행복한 하루의\"))"
   ]
  },
  {
   "cell_type": "code",
   "execution_count": 23,
   "metadata": {},
   "outputs": [
    {
     "name": "stdout",
     "output_type": "stream",
     "text": [
      "특별한 날: 행복한 하루의 날짜: 2024/02/11\n"
     ]
    }
   ],
   "source": [
    "# 방법 2: 객체 생성 시 partial_variables를 사용하여 date 변수를 미리 설정하고, adjective 변수만 format 호출 시 선언한다.\n",
    "prompt = PromptTemplate(\n",
    "    template=\"특별한 날: {adjective} 날짜: {date}\",\n",
    "    input_variables=[\"adjective\"],\n",
    "    partial_variables={\"date\": _get_datetime},\n",
    ")\n",
    "print(prompt.format(adjective=\"행복한 하루의\"))"
   ]
  },
  {
   "cell_type": "markdown",
   "metadata": {},
   "source": [
    "## Output Parser를 활용한 출력값 조정(6)\n",
    "* OutputParser 함수를 활용하여 개발자가 원하는 LLM의 답변 형식(list, JSON 등)을 고정하여 출력할 수 있다."
   ]
  },
  {
   "cell_type": "code",
   "execution_count": 24,
   "metadata": {},
   "outputs": [],
   "source": [
    "from langchain.output_parsers import CommaSeparatedListOutputParser\n",
    "from langchain.prompts import PromptTemplate\n",
    "from langchain_openai import OpenAI"
   ]
  },
  {
   "cell_type": "code",
   "execution_count": 25,
   "metadata": {},
   "outputs": [
    {
     "data": {
      "text/plain": [
       "'Your response should be a list of comma separated values, eg: `foo, bar, baz`'"
      ]
     },
     "execution_count": 25,
     "metadata": {},
     "output_type": "execute_result"
    }
   ],
   "source": [
    "output_parser = CommaSeparatedListOutputParser()\n",
    "\n",
    "format_instructions = output_parser.get_format_instructions()\n",
    "format_instructions"
   ]
  },
  {
   "cell_type": "code",
   "execution_count": 26,
   "metadata": {},
   "outputs": [],
   "source": [
    "prompt = PromptTemplate(\n",
    "    template=\"{질문} 대해 답변해줘.\\n{format_instructions}\",\n",
    "    input_variables=[\"질문\"],\n",
    "    partial_variables={\"format_instructions\": format_instructions}\n",
    ")"
   ]
  },
  {
   "cell_type": "code",
   "execution_count": 27,
   "metadata": {},
   "outputs": [],
   "source": [
    "model = OpenAI(temperature=0)"
   ]
  },
  {
   "cell_type": "code",
   "execution_count": 28,
   "metadata": {},
   "outputs": [
    {
     "name": "stderr",
     "output_type": "stream",
     "text": [
      "/usr/local/lib/python3.11/site-packages/langchain_core/_api/deprecation.py:117: LangChainDeprecationWarning: The function `__call__` was deprecated in LangChain 0.1.7 and will be removed in 0.2.0. Use invoke instead.\n",
      "  warn_deprecated(\n"
     ]
    }
   ],
   "source": [
    "_input = prompt.format(질문=\"What is the city of France?\")\n",
    "output = model(_input)"
   ]
  },
  {
   "cell_type": "code",
   "execution_count": 29,
   "metadata": {},
   "outputs": [
    {
     "data": {
      "text/plain": [
       "'\\n\\nParis, Marseille, Lyon, Toulouse, Nice, Nantes, Strasbourg, Montpellier, Bordeaux, Lille'"
      ]
     },
     "execution_count": 29,
     "metadata": {},
     "output_type": "execute_result"
    }
   ],
   "source": [
    "output"
   ]
  },
  {
   "cell_type": "code",
   "execution_count": 30,
   "metadata": {},
   "outputs": [
    {
     "data": {
      "text/plain": [
       "['Paris',\n",
       " 'Marseille',\n",
       " 'Lyon',\n",
       " 'Toulouse',\n",
       " 'Nice',\n",
       " 'Nantes',\n",
       " 'Strasbourg',\n",
       " 'Montpellier',\n",
       " 'Bordeaux',\n",
       " 'Lille']"
      ]
     },
     "execution_count": 30,
     "metadata": {},
     "output_type": "execute_result"
    }
   ],
   "source": [
    "output_parser.parse(output)"
   ]
  }
 ],
 "metadata": {
  "kernelspec": {
   "display_name": "Python 3",
   "language": "python",
   "name": "python3"
  },
  "language_info": {
   "codemirror_mode": {
    "name": "ipython",
    "version": 3
   },
   "file_extension": ".py",
   "mimetype": "text/x-python",
   "name": "python",
   "nbconvert_exporter": "python",
   "pygments_lexer": "ipython3",
   "version": "3.11.7"
  }
 },
 "nbformat": 4,
 "nbformat_minor": 2
}
