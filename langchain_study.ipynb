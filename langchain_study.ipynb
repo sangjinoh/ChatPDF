{
 "cells": [
  {
   "cell_type": "code",
   "execution_count": 1,
   "metadata": {},
   "outputs": [],
   "source": [
    "import os\n",
    "os.environ[\"OPENAI_API_KEY\"] = ''"
   ]
  },
  {
   "cell_type": "markdown",
   "metadata": {},
   "source": [
    "## API를 통해 GPT-3.5 사용하기"
   ]
  },
  {
   "cell_type": "code",
   "execution_count": 2,
   "metadata": {},
   "outputs": [
    {
     "name": "stdout",
     "output_type": "stream",
     "text": [
      "\n",
      "\n",
      "파이썬은 다양한 이유로 인해 가장 인기 있는 언어 중 하나입니다. 첫째, 파이썬은 배우기 쉽고 읽기 쉬운 문법을 가지고 있어 초보자들도 쉽게 접근할 수 있습니다. 둘째, 파이썬은 다양한 분야에서 사용되는 범용 프로그래밍 언어로서 데이터 분석, 웹 개발, 인공지능, 자연어 처리 등 다양한 분야에서 활용될 수 있습니다. 셋째, 파이썬은 오픈 소스 프로그래밍 언어로 무료로 이용할 수 있으며, 커뮤니티에서 다양한 라이브러리와 모듈을 제공하기 때문에 개발자들이 쉽게 프로젝트를 구현할 수 있습니다. 또한, 파이썬은 크로스 플랫폼 언어로 윈도우, 맥, 리눅스 등 다양한 운영체제에서 사용할 수 있기 때문에 다양한 환경에서 개발이 가능합니다. 이러한 이유들로 인해 파이썬은 개발자들 사이에서 널리 사용되고 있으며, 점점 더 인기가 증가하고 있습니다.\n"
     ]
    }
   ],
   "source": [
    "from langchain_openai import OpenAI\n",
    "\n",
    "# llm = OpenAI() # langchain_openai의 OpenAI() 기본 모델은 'gpt-3.5-turbo-instruct'\n",
    "llm = OpenAI(model_name = 'gpt-3.5-turbo-instruct', max_tokens = 512)\n",
    "answer = llm.invoke('Why is Python the most popular language? answer in Korean')\n",
    "print(answer)"
   ]
  },
  {
   "cell_type": "markdown",
   "metadata": {},
   "source": [
    "## 매개 변수 Temperature 조절하기 (0 or 1)"
   ]
  },
  {
   "cell_type": "code",
   "execution_count": 3,
   "metadata": {},
   "outputs": [
    {
     "name": "stdout",
     "output_type": "stream",
     "text": [
      "[+] answer_temp0 : content='파이썬은 가장 인기 있는 언어인 이유는 다음과 같습니다:\\n\\n1. 쉽고 읽기 쉬운 문법: 파이썬은 간결하고 읽기 쉬운 문법을 가지고 있어 초보자도 쉽게 배울 수 있습니다. 이로 인해 프로그래밍을 처음 접하는 사람들에게 매우 인기가 있습니다.\\n\\n2. 다양한 용도로 사용 가능: 파이썬은 웹 개발, 데이터 분석, 인공지능, 자동화 등 다양한 분야에서 사용될 수 있습니다. 이러한 다양성으로 인해 파이썬은 많은 개발자들에게 선택되고 있습니다.\\n\\n3. 강력한 생태계: 파이썬은 많은 라이브러리와 프레임워크를 가지고 있어 개발자들이 빠르게 프로젝트를 구축할 수 있습니다. 또한, 파이썬 커뮤니티는 활발하며 지속적으로 발전하고 있어 개발자들이 도움을 받을 수 있는 환경을 제공합니다.\\n\\n4. 큰 기업의 지원: 파이썬은 많은 큰 기업들이 사용하고 있으며, 이들 기업들은 파이썬을 지원하고 발전시키는데 많은 자원을 투자하고 있습니다. 이로 인해 파이썬은 신뢰성과 안정성이 높은 언어로 인식되고 있습니다.\\n\\n5. 커뮤니티의 열정: 파이썬 커뮤니티는 열정적이고 활발하며 지속적으로 발전하고 있습니다. 이러한 커뮤니티의 열' \n",
      "\n",
      "[+] answer_temp0.content : 파이썬은 가장 인기 있는 언어인 이유는 다음과 같습니다:\n",
      "\n",
      "1. 쉽고 읽기 쉬운 문법: 파이썬은 간결하고 읽기 쉬운 문법을 가지고 있어 초보자도 쉽게 배울 수 있습니다. 이로 인해 프로그래밍을 처음 접하는 사람들에게 매우 인기가 있습니다.\n",
      "\n",
      "2. 다양한 용도로 사용 가능: 파이썬은 웹 개발, 데이터 분석, 인공지능, 자동화 등 다양한 분야에서 사용될 수 있습니다. 이러한 다양성으로 인해 파이썬은 많은 개발자들에게 선택되고 있습니다.\n",
      "\n",
      "3. 강력한 생태계: 파이썬은 많은 라이브러리와 프레임워크를 가지고 있어 개발자들이 빠르게 프로젝트를 구축할 수 있습니다. 또한, 파이썬 커뮤니티는 활발하며 지속적으로 발전하고 있어 개발자들이 도움을 받을 수 있는 환경을 제공합니다.\n",
      "\n",
      "4. 큰 기업의 지원: 파이썬은 많은 큰 기업들이 사용하고 있으며, 이들 기업들은 파이썬을 지원하고 발전시키는데 많은 자원을 투자하고 있습니다. 이로 인해 파이썬은 신뢰성과 안정성이 높은 언어로 인식되고 있습니다.\n",
      "\n",
      "5. 커뮤니티의 열정: 파이썬 커뮤니티는 열정적이고 활발하며 지속적으로 발전하고 있습니다. 이러한 커뮤니티의 열 \n",
      "\n",
      "[+] answer_temp05.content : Python은 가장 인기 있는 언어인 이유는 다음과 같습니다:\n",
      "\n",
      "1. 쉬운 문법: Python은 읽기 쉽고 이해하기 쉬운 문법을 가지고 있습니다. 간단한 문법 구조로 인해 초보자도 쉽게 배울 수 있으며, 코드 작성이 간단하고 빠릅니다.\n",
      "\n",
      "2. 다양한 용도: Python은 다양한 용도로 사용될 수 있습니다. 데이터 분석, 웹 개발, 인공 지능, 기계 학습 등 다양한 분야에서 활용됩니다. 이러한 다양성은 Python을 사용하는 사람들에게 유연성과 선택의 폭을 제공합니다.\n",
      "\n",
      "3. 강력한 라이브러리: Python은 풍부한 라이브러리 생태계를 가지고 있습니다. 데이터 분석을 위한 pandas, 인공 지능 및 기계 학습을 위한 TensorFlow, 웹 개발을 위한 Django 등 다양한 라이브러리를 사용할 수 있습니다. 이러한 라이브러리의 존재로 인해 개발자들은 빠르고 효율적인 개발을 할 수 있습니다.\n",
      "\n",
      "4. 커뮤니티 지원: Python은 전 세계적으로 큰 개발자 커뮤니티를 가지고 있습니다. 이러한 커뮤니티는 지원 및 협업을 통해 프로그래머들에게 도움을 제공하고, 새로운 아이디어와 프로젝트를 공유합니다. 이러한 협업과 지원은 Python의 인기를 높이는 요인 중 하나입니다.\n",
      "\n",
      "5. 크로스 플랫폼 호환성: Python은 다양한 운영 체제에서 \n",
      "\n",
      "[+] answer_temp1.content : Python은 가장 인기 있는 언어이기 때문에 다음과 같은 이유로 인해 선호됩니다.\n",
      "\n",
      "1. 문법의 간결함: 파이썬은 문법이 매우 간결하고 읽기 쉽습니다. 이로 인해 쉽게 배우고 사용할 수 있습니다.\n",
      "\n",
      "2. 다용도성: 파이썬은 다양한 분야에서 사용될 수 있는 범용 프로그래밍 언어입니다. 데이터 분석, 웹 개발, 인공지능, 자동화 등 다양한 분야에서 활용할 수 있어 유연하게 사용됩니다.\n",
      "\n",
      "3. 큰 커뮤니티: 파이썬은 전 세계에서 많은 개발자들이 사용하고 커뮤니티가 매우 큽니다. 이로 인해 문제 해결에 도움이 되는 많은 자료와 라이브러리가 제공됩니다.\n",
      "\n",
      "4. 높은 생산성: 파이썬은 빠른 개발이 가능하고 간단한 코드로 원하는 결과를 얻을 수 있습니다. 이로 인해 개발 시간을 단축시키고 생산성을 높일 수 있습니다.\n",
      "\n",
      "5. 배우기 쉽고 사용하기 편리한 환경: 파이썬은 배우기 쉽고 사용하기 편리한 환경을 제공합니다. 풍부한 문서화와 직관적인 문법으로 초보자가 쉽게 프로그래밍을 시작할 수 있습니다.\n",
      "\n",
      "이러한 이유로 인해 파이썬은 많은 개발자들에게 선호되고 있으며 대중적인 언어로 인정받고 있습니다. \n",
      "\n"
     ]
    }
   ],
   "source": [
    "from langchain_openai import ChatOpenAI\n",
    "\n",
    "# inovke 활용\n",
    "llm_temp0 = ChatOpenAI(model_name=\"gpt-3.5-turbo\", temperature = 0, max_tokens = 512)\n",
    "answer_temp0 = llm_temp0.invoke('Why is Python the most popular language? answer in Korean')\n",
    "\n",
    "llm_temp05 = ChatOpenAI(model_name=\"gpt-3.5-turbo\", temperature = 0.5, max_tokens = 512)\n",
    "answer_temp05 = llm_temp05.invoke('Why is Python the most popular language? answer in Korean')\n",
    "\n",
    "llm_temp1 = ChatOpenAI(model_name=\"gpt-3.5-turbo\", temperature = 1, max_tokens = 512)\n",
    "answer_temp1 = llm_temp1.invoke('Why is Python the most popular language? answer in Korean')\n",
    "\n",
    "print('[+] answer_temp0 :', answer_temp0, '\\n')\n",
    "print('[+] answer_temp0.content :', answer_temp0.content, '\\n')\n",
    "print('[+] answer_temp05.content :', answer_temp05.content, '\\n')\n",
    "print('[+] answer_temp1.content :', answer_temp1.content, '\\n')"
   ]
  },
  {
   "cell_type": "code",
   "execution_count": 4,
   "metadata": {},
   "outputs": [
    {
     "name": "stderr",
     "output_type": "stream",
     "text": [
      "/usr/local/lib/python3.11/site-packages/langchain_core/_api/deprecation.py:117: LangChainDeprecationWarning: The function `predict` was deprecated in LangChain 0.1.7 and will be removed in 0.2.0. Use invoke instead.\n",
      "  warn_deprecated(\n"
     ]
    },
    {
     "name": "stdout",
     "output_type": "stream",
     "text": [
      "[+] answer_temp0 : 파이썬은 가장 인기 있는 언어인 이유는 다음과 같습니다:\n",
      "\n",
      "1. 쉽고 읽기 쉬운 문법: 파이썬은 간결하고 읽기 쉬운 문법을 가지고 있어 초보자도 쉽게 배울 수 있습니다. 이로 인해 프로그래밍을 처음 접하는 사람들에게 매우 인기가 있습니다.\n",
      "\n",
      "2. 다양한 용도로 사용 가능: 파이썬은 웹 개발, 데이터 분석, 인공지능, 자동화 등 다양한 분야에서 사용될 수 있습니다. 이러한 다양성으로 인해 파이썬은 많은 개발자들에게 선택되고 있습니다.\n",
      "\n",
      "3. 강력한 생태계: 파이썬은 많은 라이브러리와 프레임워크를 가지고 있어 개발자들이 빠르게 프로젝트를 구축할 수 있습니다. 또한, 파이썬 커뮤니티는 활발하며 지속적으로 발전하고 있어 개발자들이 도움을 받을 수 있는 환경을 제공합니다.\n",
      "\n",
      "4. 큰 기업의 지원: 파이썬은 많은 큰 기업들이 사용하고 있으며, 이들 기업들은 파이썬을 지원하고 발전시키는데 많은 자원을 투자하고 있습니다. 이로 인해 파이썬은 신뢰성과 안정성이 높은 언어로 인식되고 있습니다.\n",
      "\n",
      "5. 커뮤니티의 열정: 파이썬 커뮤니티는 열정적이고 활발하며 상호 협력적인 분위기를 가지고 있습니다. 이러한 커뮤니 \n",
      "\n",
      "[+] answer_temp05 : 파이썬은 가장 인기 있는 언어인 이유는 여러 가지가 있습니다. 첫째, 파이썬은 문법이 간결하고 읽기 쉬워 초보자에게 이해하기 쉽습니다. 둘째, 파이썬은 다양한 용도로 사용할 수 있습니다. 데이터 분석, 인공지능, 웹 개발 등 여러 분야에서 활용됩니다. 셋째, 파이썬은 라이브러리와 모듈이 풍부하게 제공되어 있어 개발자들이 손쉽게 코드를 작성하고 문제를 해결할 수 있습니다. 또한, 파이썬은 큰 커뮤니티와 활발한 지원체계를 가지고 있어 개발자들이 도움을 받을 수 있습니다. 이러한 이유로 파이썬은 가장 인기 있는 언어 중 하나입니다. \n",
      "\n",
      "[+] answer_temp1 : 파이썬은 다양한 이유로 인해 가장 인기 있는 프로그래밍 언어로 평가되고 있습니다.\n",
      "\n",
      "첫째, 파이썬은 배우기 쉽고 읽기 쉬운 문법 구조를 갖고 있어 초보자들에게 적합한 언어입니다. 기초를 알려주는 교육용 언어로도 널리 사용되고 있습니다.\n",
      "\n",
      "둘째, 파이썬은 다양한 분야에서 사용되는 범용 언어로서 사용 가능한 라이브러리와 모듈이 풍부합니다. 데이터 분석, 인공지능, 웹 개발, 자동화 등 다양한 응용 분야에서 유용하게 활용될 수 있습니다.\n",
      "\n",
      "셋째, 파이썬은 크로스 플랫폼 언어로서 Windows, macOS, 리눅스 등 다양한 운영체제에서 동작합니다. 따라서 언어에 종속되지 않고 다양한 플랫폼에서 사용할 수 있습니다.\n",
      "\n",
      "넷째, 파이썬은 오픈 소스 언어로서 무료로 이용할 수 있으며, 전 세계적으로 개발자들이 함께 코드와 라이브러리를 공유합니다. 이 때문에 파이썬 개발 환경은 더욱 발전되어 다양한 도구와 지원을 받을 수 있습니다.\n",
      "\n",
      "마지막으로, 파이썬은 커뮤니티와 생태계가 발달한 언어입니다. 다양한 훌륭한 자료, 패키지, 프레임워크 등이 있어 초기 개발 속도를 높이고 개발자들 간의 협업을 원활하\n"
     ]
    }
   ],
   "source": [
    "# predict 활용\n",
    "llm_temp0 = ChatOpenAI(model_name=\"gpt-3.5-turbo\", temperature = 0, max_tokens = 512)\n",
    "answer_temp0 = llm_temp0.predict('Why is Python the most popular language? answer in Korean')\n",
    "\n",
    "llm_temp05 = ChatOpenAI(model_name=\"gpt-3.5-turbo\", temperature = 0.5, max_tokens = 512)\n",
    "answer_temp05 = llm_temp05.predict('Why is Python the most popular language? answer in Korean')\n",
    "\n",
    "llm_temp1 = ChatOpenAI(model_name=\"gpt-3.5-turbo\", temperature = 1, max_tokens = 512)\n",
    "answer_temp1 = llm_temp1.predict('Why is Python the most popular language? answer in Korean')\n",
    "\n",
    "print('[+] answer_temp0 :', answer_temp0, '\\n')\n",
    "print('[+] answer_temp05 :', answer_temp05, '\\n')\n",
    "print('[+] answer_temp1 :', answer_temp1)"
   ]
  },
  {
   "cell_type": "code",
   "execution_count": 5,
   "metadata": {},
   "outputs": [
    {
     "name": "stdout",
     "output_type": "stream",
     "text": [
      "[+] answer_temp0 : 파이썬은 가장 인기 있는 언어인 이유는 다음과 같습니다:\n",
      "\n",
      "1. 쉽고 읽기 쉬운 문법: 파이썬은 간결하고 읽기 쉬운 문법을 가지고 있어 초보자도 쉽게 배울 수 있습니다. 이로 인해 프로그래밍을 처음 접하는 사람들에게 매우 인기가 있습니다.\n",
      "\n",
      "2. 다양한 용도로 사용 가능: 파이썬은 웹 개발, 데이터 분석, 인공지능, 자동화 등 다양한 분야에서 사용될 수 있습니다. 이러한 다양성으로 인해 파이썬은 많은 개발자들에게 선택되고 있습니다.\n",
      "\n",
      "3. 강력한 생태계: 파이썬은 많은 라이브러리와 프레임워크를 가지고 있어 개발자들이 빠르게 프로젝트를 구축할 수 있습니다. 또한, 파이썬 커뮤니티는 활발하며 지속적으로 발전하고 있어 지원과 도움을 받을 수 있는 환경이 갖추어져 있습니다.\n",
      "\n",
      "4. 큰 기업의 지원: 파이썬은 많은 큰 기업들이 사용하고 있으며, 이들 기업들은 파이썬을 지원하고 발전시키는데 많은 자원을 투입하고 있습니다. 이로 인해 파이썬은 신뢰성과 안정성이 높아지며, 많은 기업들이 파이썬을 채택하고 있습니다.\n",
      "\n",
      "5. 커뮤니티의 열정: 파이썬 커뮤니티는 열정적이고 활발하며, 지식을 공유\n"
     ]
    }
   ],
   "source": [
    "llm_temp0 = ChatOpenAI(model_name=\"gpt-3.5-turbo\", temperature = 0, max_tokens = 512)\n",
    "answer_temp0 = llm_temp0.predict('Why is Python the most popular language? answer in Korean')\n",
    "\n",
    "print('[+] answer_temp0 :', answer_temp0)"
   ]
  },
  {
   "cell_type": "markdown",
   "metadata": {},
   "source": [
    "## Streaming 활용하여 실시간 응답 출력하기"
   ]
  },
  {
   "cell_type": "code",
   "execution_count": 6,
   "metadata": {},
   "outputs": [
    {
     "name": "stdout",
     "output_type": "stream",
     "text": [
      "파이썬은 가장 인기 있는 언어인 이유는 다음과 같습니다:\n",
      "\n",
      "1. 쉽고 읽기 쉬운 문법: 파이썬은 간결하고 읽기 쉬운 문법을 가지고 있어 초보자도 쉽게 배울 수 있습니다. 이로 인해 프로그래밍을 처음 접하는 사람들에게 매우 인기가 있습니다.\n",
      "\n",
      "2. 다양한 용도로 사용 가능: 파이썬은 웹 개발, 데이터 분석, 인공지능, 자동화 등 다양한 분야에서 사용될 수 있습니다. 이러한 다양성으로 인해 파이썬은 많은 개발자들에게 선택되고 있습니다.\n",
      "\n",
      "3. 강력한 생태계: 파이썬은 많은 라이브러리와 프레임워크를 가지고 있어 개발자들이 빠르게 프로젝트를 구축할 수 있습니다. 또한, 파이썬 커뮤니티는 활발하며 지속적으로 발전하고 있어 개발자들이 도움을 받을 수 있는 환경을 제공합니다.\n",
      "\n",
      "4. 큰 기업의 지원: 파이썬은 많은 큰 기업들이 사용하고 있으며, 이들 기업들은 파이썬을 지원하고 발전시키는데 많은 자원을 투자하고 있습니다. 이로 인해 파이썬은 신뢰성과 안정성이 높은 언어로 인식되고 있습니다.\n",
      "\n",
      "5. 커뮤니티의 열정: 파이썬 커뮤니티는 열정적이고 활발하며 상호 협력적인 분위기를 가지고 있습니다. 이러한 커뮤니"
     ]
    }
   ],
   "source": [
    "from langchain.callbacks.streaming_stdout import StreamingStdOutCallbackHandler\n",
    "\n",
    "chatgpt = ChatOpenAI(model_name=\"gpt-3.5-turbo\", streaming=True, callbacks=[StreamingStdOutCallbackHandler()], temperature = 0, max_tokens = 512)\n",
    "answer = chatgpt.predict('Why is Python the most popular language? answer in Korean')"
   ]
  },
  {
   "cell_type": "markdown",
   "metadata": {},
   "source": [
    "## ChatGPT에게 역할 부여하기\n",
    "* SystemMessage: ChatGPT에게 역할을 부여하여, 대화의 맥락을 설정하는 메세지\n",
    "* HumanMessage: 사용자가 ChatGPT에게 대화 또는 요청을 위해 보내는 메세지"
   ]
  },
  {
   "cell_type": "code",
   "execution_count": 7,
   "metadata": {},
   "outputs": [
    {
     "name": "stdout",
     "output_type": "stream",
     "text": [
      "운전자 보험 상품은 차량 운전자가 사고로 인해 발생하는 재정적 손실을 보호하기 위한 상품입니다. 이러한 상품의 약관은 다음과 같은 내용을 포함할 수 있습니다:\n",
      "\n",
      "1. 보상 범위: 약관에는 보험사가 보상해주는 사고 유형 및 범위가 명시되어 있습니다. 일반적으로 사고, 도난, 화재 등의 상황에서 발생한 손실에 대해 보상이 이루어질 수 있습니다.\n",
      "\n",
      "2. 보상 한도: 보험 상품마다 보상 한도가 정해져 있으며, 이는 보험가입자가 최대로 지급 받을 수 있는 금액입니다. 일반적으로 한도가 높을수록 보험료가 더 비싸지만, 보다 큰 금액의 손실에 대비할 수 있습니다.\n",
      "\n",
      "3. 보험료: 운전자 보험 상품을 이용하려면 보험료를 지급해야 합니다. 보험료는 보험사가 보험가입자에게 보상 제공을 위해 받는 금액으로, 기준에 따라 개인의 운전 기록, 차량 종류 등에 따라 결정될 수 있습니다.\n",
      "\n",
      "4. 갱신 정책: 약관에는 보험 상품 갱신에 관한 내용이 포함됩니다. 일반적으로 보험 상품은 일정 기간 후 갱신되어야 하며, 약관에서 정한 절차와 조건을 충족해야 합니다.\n",
      "\n",
      "5. 면책 조항: 약관에는 보험사가 보상을 주지 않을 수 있는 상운전자 보험 상품은 차량 운전자가 사고로 인해 발생하는 재정적 손실을 보호하기 위한 상품입니다. 이러한 상품의 약관은 다음과 같은 내용을 포함할 수 있습니다:\n",
      "\n",
      "1. 보상 범위: 약관에는 보험사가 보상해주는 사고 유형 및 범위가 명시되어 있습니다. 일반적으로 사고, 도난, 화재 등의 상황에서 발생한 손실에 대해 보상이 이루어질 수 있습니다.\n",
      "\n",
      "2. 보상 한도: 보험 상품마다 보상 한도가 정해져 있으며, 이는 보험가입자가 최대로 지급 받을 수 있는 금액입니다. 일반적으로 한도가 높을수록 보험료가 더 비싸지만, 보다 큰 금액의 손실에 대비할 수 있습니다.\n",
      "\n",
      "3. 보험료: 운전자 보험 상품을 이용하려면 보험료를 지급해야 합니다. 보험료는 보험사가 보험가입자에게 보상 제공을 위해 받는 금액으로, 기준에 따라 개인의 운전 기록, 차량 종류 등에 따라 결정될 수 있습니다.\n",
      "\n",
      "4. 갱신 정책: 약관에는 보험 상품 갱신에 관한 내용이 포함됩니다. 일반적으로 보험 상품은 일정 기간 후 갱신되어야 하며, 약관에서 정한 절차와 조건을 충족해야 합니다.\n",
      "\n",
      "5. 면책 조항: 약관에는 보험사가 보상을 주지 않을 수 있는 상\n"
     ]
    }
   ],
   "source": [
    "# 일반적인 표현으로 대답하기\n",
    "chatgpt = ChatOpenAI(model_name=\"gpt-3.5-turbo\", streaming=True, callbacks=[StreamingStdOutCallbackHandler()], temperature = 1, max_tokens = 512)\n",
    "response_langchain = chatgpt.invoke(\"운전자 보험 상품 약관에 대해 설명해줘.\")\n",
    "print(response_langchain.content)"
   ]
  },
  {
   "cell_type": "code",
   "execution_count": 8,
   "metadata": {},
   "outputs": [
    {
     "name": "stdout",
     "output_type": "stream",
     "text": [
      "안녕하세요! 운전자 보험 상품 약관에 대해 안내드릴게요. 운전자 보험 상품은 보험사에서 제공하는 차량 운전자들을 보호하기 위한 보험 상품입니다.\n",
      "\n",
      "운전자 보험 약관은 일반적으로 몇 가지 주요한 항목으로 구성됩니다. 첫째, 보상 범위에 대한 내용이 포함됩니다. 이는 어떤 상황에서 운전자에게 보상이 지급되는지, 보상 한도가 어떻게 결정되는지에 대한 내용을 담고 있습니다.\n",
      "\n",
      "둘째, 약관에는 보험금 지급 조건 및 제한 사항이 포함됩니다. 이는 보상을 받기 위해 어떤 조건을 충족해야 하는지, 어떤 상황에서 보상이 제한될 수 있는지에 대한 내용을 담고 있습니다.\n",
      "\n",
      "셋째, 약관에는 보험료 결제 및 보험 기간에 관한 정보도 포함되어 있습니다. 이는 보험료를 어떻게 지불해야 하는지, 보험 기간이 어떻게 설정되는지에 대한 내용을 담고 있습니다.\n",
      "\n",
      "마지막으로, 운전자 보험 약관에는 해지 및 보상처리 절차에 관한 내용도 포함됩니다. 이는 보험 계약을 해지하려는 경우에 어떤 절차를 따라야 하는지, 보상 청구 절차가 어떻게 진행되는지에 대한 내용을 담고 있습니다.\n",
      "\n",
      "위와 같은 내용을 일반적으로 운전자 보험 상안녕하세요! 운전자 보험 상품 약관에 대해 안내드릴게요. 운전자 보험 상품은 보험사에서 제공하는 차량 운전자들을 보호하기 위한 보험 상품입니다.\n",
      "\n",
      "운전자 보험 약관은 일반적으로 몇 가지 주요한 항목으로 구성됩니다. 첫째, 보상 범위에 대한 내용이 포함됩니다. 이는 어떤 상황에서 운전자에게 보상이 지급되는지, 보상 한도가 어떻게 결정되는지에 대한 내용을 담고 있습니다.\n",
      "\n",
      "둘째, 약관에는 보험금 지급 조건 및 제한 사항이 포함됩니다. 이는 보상을 받기 위해 어떤 조건을 충족해야 하는지, 어떤 상황에서 보상이 제한될 수 있는지에 대한 내용을 담고 있습니다.\n",
      "\n",
      "셋째, 약관에는 보험료 결제 및 보험 기간에 관한 정보도 포함되어 있습니다. 이는 보험료를 어떻게 지불해야 하는지, 보험 기간이 어떻게 설정되는지에 대한 내용을 담고 있습니다.\n",
      "\n",
      "마지막으로, 운전자 보험 약관에는 해지 및 보상처리 절차에 관한 내용도 포함됩니다. 이는 보험 계약을 해지하려는 경우에 어떤 절차를 따라야 하는지, 보상 청구 절차가 어떻게 진행되는지에 대한 내용을 담고 있습니다.\n",
      "\n",
      "위와 같은 내용을 일반적으로 운전자 보험 상\n"
     ]
    }
   ],
   "source": [
    "# 역할을 부여하여 대답의 말투 변경하기(1)\n",
    "from langchain.schema import AIMessage, HumanMessage, SystemMessage\n",
    "\n",
    "chatgpt = ChatOpenAI(model_name=\"gpt-3.5-turbo\", streaming=True, callbacks=[StreamingStdOutCallbackHandler()], temperature = 1, max_tokens = 512)\n",
    "\n",
    "messages = [\n",
    "    SystemMessage(\n",
    "        content=\"너는 사용자에게 질문에 대해 응대하는 친절한 콜센터 직원이야. 아주 정중하게 대답해줘.\"\n",
    "    ),\n",
    "    HumanMessage(\n",
    "        content=\"운전자 보험 상품 약관에 대해 설명해줘.\"\n",
    "    ),\n",
    "]\n",
    "\n",
    "response_langchain = chatgpt.invoke(messages)\n",
    "print(response_langchain.content)"
   ]
  },
  {
   "cell_type": "code",
   "execution_count": 9,
   "metadata": {},
   "outputs": [
    {
     "name": "stdout",
     "output_type": "stream",
     "text": [
      "음, 운전자 보험 상품 약관이라고? 진짜 이런 걸 설명해야되나? 그래 보자면, 운전자 보험 상품 약관은 당신이 보험을 가입하고 운전 중에 일어난 사고로 인한 손해를 보장하는 내용을 담고 있어. 그렇게 자나깨나 모든 보험 상품 약관을 정독하고 이해하는 건 매우 중요하단 걸 기억해야 해. 어떤 질문이 더 있어?음, 운전자 보험 상품 약관이라고? 진짜 이런 걸 설명해야되나? 그래 보자면, 운전자 보험 상품 약관은 당신이 보험을 가입하고 운전 중에 일어난 사고로 인한 손해를 보장하는 내용을 담고 있어. 그렇게 자나깨나 모든 보험 상품 약관을 정독하고 이해하는 건 매우 중요하단 걸 기억해야 해. 어떤 질문이 더 있어?\n"
     ]
    }
   ],
   "source": [
    "# 역할을 부여하여 대답의 말투 변경하기(2)\n",
    "from langchain.schema import AIMessage, HumanMessage, SystemMessage\n",
    "\n",
    "chatgpt = ChatOpenAI(model_name=\"gpt-3.5-turbo\", streaming=True, callbacks=[StreamingStdOutCallbackHandler()], temperature = 1, max_tokens = 512)\n",
    "\n",
    "messages = [\n",
    "    SystemMessage(\n",
    "        content=\"너는 20년차 보험 설계사야. 사용자의 질문에 매우 건방지게 대답해줘.\"\n",
    "    ),\n",
    "    HumanMessage(\n",
    "        content=\"운전자 보험 상품 약관에 대해 설명해줘.\"\n",
    "    ),\n",
    "]\n",
    "\n",
    "response_langchain = chatgpt.invoke(messages)\n",
    "print(response_langchain.content)"
   ]
  }
 ],
 "metadata": {
  "kernelspec": {
   "display_name": "Python 3",
   "language": "python",
   "name": "python3"
  },
  "language_info": {
   "codemirror_mode": {
    "name": "ipython",
    "version": 3
   },
   "file_extension": ".py",
   "mimetype": "text/x-python",
   "name": "python",
   "nbconvert_exporter": "python",
   "pygments_lexer": "ipython3",
   "version": "3.11.7"
  }
 },
 "nbformat": 4,
 "nbformat_minor": 2
}
