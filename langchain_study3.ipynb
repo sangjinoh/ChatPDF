{
 "cells": [
  {
   "cell_type": "markdown",
   "metadata": {},
   "source": [
    "# Document Loaders\n",
    "Document Loaders는 다양한 형태의 문서를 RAG 전용 객체로 불러들이는 모듈\n",
    "* Page_content: 문서의 내용\n",
    "* Metadata: 문서의 위치, 제목, 페이지 넘버 등"
   ]
  },
  {
   "cell_type": "markdown",
   "metadata": {},
   "source": [
    "## PDF File Loader"
   ]
  },
  {
   "cell_type": "code",
   "execution_count": null,
   "metadata": {},
   "outputs": [],
   "source": [
    "from dotenv import load_dotenv\n",
    "load_dotenv()"
   ]
  },
  {
   "cell_type": "code",
   "execution_count": 3,
   "metadata": {},
   "outputs": [],
   "source": [
    "from langchain.document_loaders import PyPDFLoader\n",
    "\n",
    "loader = PyPDFLoader(\"/workspace/assets/doc/운전자보험상품약관.pdf\")\n",
    "pages = loader.load_and_split()"
   ]
  },
  {
   "cell_type": "code",
   "execution_count": 5,
   "metadata": {},
   "outputs": [
    {
     "data": {
      "text/plain": [
       "Document(page_content='약관의  핵심 체크항목  쉽게 찾기(보통약관  기준) \\n \\n보험약관  핵심사항  등과 관련된  해당 조문, 쪽수 및 영상자료  등을 안내드리오니 ,  \\n보험회사로부터  약관을  수령한  후, 해당 내용을  반드시  확인∙숙지  하시기  바랍니다 . \\n \\n핵심사항과  해당 조문 영상자료  페이지  \\n보험금  지급 및 지급제한  사항 \\n제3조(보험금의  지급사유 ) \\n제5조(보험금을  지급하지  않는 사유) \\n      \\nhttps://consumer.knia.or.kr/youtubelong1.do    \\np.34 \\np.35 \\n \\n청약철회  \\n제21조(청약의  철회) \\n \\nhttps://consumer.knia.or.kr/youtubelong2.do  \\n  \\np.40 \\n \\n자필 서명 / 계약취소  \\n제18조(사기에  의한 계약) \\n제22조(약관교부  및 설명의무  등) \\n \\nhttps://consumer.knia.or.kr/youtubelong3.do    \\np.40 \\np.41 \\n계약무효  \\n제23조(계약의  무효) \\n \\nhttps://consumer.knia.or.kr/youtubelong4.do  \\n  \\np.42 \\n \\n계약 전 알릴 의무 및 위반효과  \\n제15조(계약 전 알릴 의무) \\n제17조(알릴 의무 위반의  효과) \\n \\nhttps://consumer.knia.or.kr/youtubelong5.do    \\np.38 \\np.39 \\n \\n  \\n \\n핵심사항과  해당 조문 영상자료  페이지  \\n계약 후 알릴 의무 및 위반효과  \\n제16조(상해보험계약  후 알릴의무 ) \\n제17조(알릴 의무 위반의  효과) \\n \\nhttps://consumer.knia.or.kr/youtubelong6.do    \\np.38 \\np.39 \\n보험료  연체 및 해지 \\n제30조(보험료의  납입이  연체되는  경우 납입최고 (독촉)와  \\n        계약의  해지) \\n \\nhttps://consumer.knia.or.kr/youtubelong7.do    \\np.44 \\n \\n부활(효력회복 ) \\n제31조(보험료의  납입을  연체하여  해지된  계약의  \\n        부활(효력회복 )) \\n \\nhttps://consumer.knia.or.kr/youtubelong8.do    \\np.44 \\n해약환급금  \\n제33조(계약자의  임의해지  및 피보험자의  서면동의   \\n        철회권) \\n제36조(해약환급금 ) \\n \\nhttps://consumer.knia.or.kr/youtubelong9.do    \\np.45 \\n \\np.46 \\n보험계약대출  \\n제37조(보험계약대출 ) \\n \\nhttps://consumer.knia.or.kr/youtubelong10.do  \\n  \\np.46 \\n \\n보험금  지급절차  \\n제8조(보험금의  지급절차 ) \\n \\nhttps://consumer.knia.or.kr/youtubelong11.do  \\n  \\np.36 \\n \\n※ 위 QR코드의  영상자료는  사람의  신체를  보장하는  담보를  기준으로  손해보험협회가   \\n   공통으로  제작한  자료입니다 . \\n  \\n7 / 278', metadata={'source': '/workspace/assets/doc/운전자보험상품약관.pdf', 'page': 7})"
      ]
     },
     "execution_count": 5,
     "metadata": {},
     "output_type": "execute_result"
    }
   ],
   "source": [
    "pages[6]"
   ]
  },
  {
   "cell_type": "markdown",
   "metadata": {},
   "source": [
    "## Docx File Loader"
   ]
  },
  {
   "cell_type": "code",
   "execution_count": 6,
   "metadata": {},
   "outputs": [],
   "source": [
    "from langchain.document_loaders import Docx2txtLoader\n",
    "loader = Docx2txtLoader(\"/workspace/assets/doc/입찰참가신청서.docx\")\n",
    "data = loader.load()"
   ]
  },
  {
   "cell_type": "code",
   "execution_count": 7,
   "metadata": {},
   "outputs": [
    {
     "data": {
      "text/plain": [
       "[Document(page_content='입 찰 공 고\\n\\n\\n\\n 2023년도 하나은행 가전제품 연간 단가 계약 구매업체 선정\\n\\n\\n\\n1. 입찰에 부치는 사항\\n\\n가. 사업명 : 2023년도 하나은행 가전제품 연간 단가 계약 구매업체 선정\\n\\n나. 구매 품목 : 입찰유의서 별지 참조\\n\\n다. 계약 기간 : 계약일로부터 2년\\n\\n라. 납품 장소 : 영업점(출장소, 부속영업장 포함), 본부부서, 사택(합숙소) 등\\n\\n               당행이 지정하는 장소\\n\\n\\n\\n2. 입찰 및 계약방법 : 제한경쟁입찰, 단가 계약\\n\\n※ 계약은 전체 품목에 대한 총액으로 품목별 단가 계약 체결함\\n\\n\\n\\n3. 입찰참가자격 : 아래 요건을 모두 갖춘 사업체(입찰 공고일 기준)\\n\\n가. 전국 배송 물류망 및 A/S전국망을 갖춘 제조사(삼성, LG)의 공식법인대리점\\n\\n(단, 입찰참여업체의 사업장 소재지는 서울특별시, 인천광역시, 경기도로 제한)\\n\\n- 제조사의 입찰 참가 확인서 제출\\n\\n나. 단가 품목 대상은 KS(한국산업표준) 또는 KC(국가통합인증마크) 취득한 기기\\n\\n※ 위에 기재하지 아니한 입찰참가자격 판단에 관하여는 당행의 판단에 의하며,\\n\\n입찰에 참가하는 자는 당행의 판단 및 해석에 대하여 이의를 제기할 수 없음\\n\\n\\n\\n4. 입찰 참가 자격 제한\\n\\n가. 기업신용평가등급 B0등급 미만업체(Cretop, Creport등 신용평가기관 기준)\\n\\n- 입찰참여 업체의 Cretop, Creport 자료 또는 신용평가기관 자료 제출로 증빙함\\n\\n\\n\\n5. 낙찰자 결정\\n\\n가. 입찰 참여 자격조건을 만족하고 서류심사를 통과한 자에 한해 입찰을 실시하여\\n\\n낙찰자를 선정함\\n\\n나. 입찰 방식 : 전자입찰, 예정가 이하 총액 최저가 낙찰방식\\n\\n※ 전체 합산금액이 예정가격 이하이면서, 최저가인 1순위 업체와 차순위 업체를\\n\\n공동 낙찰자로 선정함[단, 차순위 입찰업체는 1순위 입찰업체 제조사와 다른\\n\\n제조사로 선정하며, 입찰총액이 낮은 입찰자로부터 순차적으로 1순위자 낙찰가\\n\\n(품목별 단가계약가)로 계약체결에 동의한 입찰자를 차순위 낙찰자로 선정한다.\\n\\n(단, 동의한 차순위 낙찰가가 없을 경우 1순위자로 단독 계약을 진행)]\\n\\n※ 발주 비율은 60%(1순위 낙찰자) : 40%(차순위 낙찰자)로 배분함\\n\\n\\n\\n6. 사업추진일정\\n\\n사업자선정을 위한 일정은 다음과 같으며, 본 일정은 하나은행 총무부의 사정에 의해\\n\\n변경될 수 있다. 은행의 사유로 일정 변경 시에는 재공고를 시행한다.\\n\\n가. 공고기간 : 2023. 06. 07 ~ 06. 13(7일간)\\n\\n나. 사업설명회 : 생략\\n\\n다. 입찰참가신청 서류 접수\\n\\n○ 접수기간 : 2023. 06. 07 ~ 06. 13(7일간) \\n\\n※ 업무시간(09:00 ~18:00)에 한해 접수함\\n\\n○ 장    소 : 하나은행 총무부\\n\\n○ 제출방법 : 직접 제출(담당부서 외 접수하지 않음)\\n\\n○ 입찰참가신청 서류\\n\\n- 입찰참가신청서(소정양식) 1부\\n\\n- 입찰유의서(소정양식) 및 입찰유의서 별지 각 1부\\n\\n- 입찰품목 모델명 및 모델번호 리스트(입찰참여시 모델) 1부\\n\\n  ※ 2023년도 생산되는 모델에 한함\\n\\n- 법인사업자등록증 사본(원본대조필 명기 후 인감 날인) 1부\\n\\n- 법인인감증명서 및 사용인감계 각 1부(사용인감계는 필요시)\\n\\n- 대리인 접수시 위임장과 재직증명서 각 1부\\n\\n- 전년도 국세완납증명서 및 지방세 완납증명서 각 1부\\n\\n- 제조사의 공식 대리점 인증서(계약서) 및 입찰참가 확인서 각 1부\\n\\n- 기업신용평가등급 참고자료 1부\\n\\n(Cretop, Creport 자료 또는 기업신용평가기관 자료)\\n\\n- 이행(입찰)보증보험증권 1부\\n\\n* 피보험자 : 하나은행(사업자 번호 : 202-81-14695)\\n\\n라. 입찰 예정일 : 2023. 06. 15\\n\\n마. 결과 발표 : 2023. 06. 16 (※ 업체 앞 개별 통보)\\n\\n\\n\\n7. 입찰보증금\\n\\n본 입찰의 입찰보증금(보증금액 : 투찰금액의 5% 이상, 기간 : 입찰등록마감일로부터\\n\\n30일까지)은 보증보험증권으로 입찰등록 마감시까지 납부하여야 한다.\\n\\n\\n\\n8. 입찰무효\\n\\n하나은행은 다음에 해당하는 입찰에 대하여는 당해 제안자의 제안서는 무효 처리한다.\\n\\n가. 입찰참가자격이 없는 자가 한 입찰\\n\\n나. 동일인(1인이 수개의 법인 또는 사업체의 대표자인 경우 해당 수개의 법인 또는\\n\\n사업체를 동일인으로 간주)이 2개 이상의 제안서를 제출한 입찰\\n\\n다. 동일인이 복수의 제안자를 대리하여 제안서를 제출한 입찰\\n\\n라. 기타 입찰공고, 입찰유의서에 정한 무효 사유가 발생한 경우\\n\\n\\n\\n9. 기 타\\n\\n가. 제출된 서류 및 각종 문서는 일체 반환되지 않으며 본 입찰과 관련된 일체의 소요\\n\\n비용은 입찰참가자의 부담으로 함\\n\\n나. 입찰자는 입찰유의사항 및 입찰관련사항을 사전에 충분히 숙지하고 입찰에\\n\\n응하여야 하며 미숙지로 인한 책임은 입찰자에게 귀속됨\\n\\n다. 납품에 따른 대금 지급은 익월 검수 완료 후 진행되며, 체크카드로 대금 결재함\\n\\n   단, AS 등 유지비용은 전자세금계산서로 대금 결재함\\n\\n라. 기타 사항은 하나은행 총무부 담당자(02-3788-5431)로 문의 바랍니다.\\n\\n\\n\\n\\n\\n2023. 06.\\n\\n\\n\\n\\n\\n\\n\\n하나은행 총무부\\n\\n\\n\\n\\n\\n\\n\\n\\n\\n붙임#1.\\n\\n입찰참가신청서\\n\\n처리기간\\n\\n\\n\\n즉 시\\n\\n신\\n\\n청\\n\\n인\\n\\n사업자명\\n\\n\\n\\n등록번호\\n\\n\\n\\n\\n\\n주 소\\n\\n\\n\\n전 화 번 호\\n\\n\\n\\n\\n\\n대 표 자\\n\\n\\n\\n주민등록번호\\n\\n\\n\\n입\\n\\n찰\\n\\n개\\n\\n요\\n\\n입찰공고\\n\\n\\n\\n등 록 일 자\\n\\n\\n\\n\\n\\n사 업 명\\n\\n2023년도 하나은행 가전제품 단가 계약 구매업체 선정\\n\\n입\\n\\n찰\\n\\n보\\n\\n증\\n\\n금\\n\\n납 부\\n\\n․ 보 증 금 율 : 제안금액의 5% 이상\\n\\n․ 보 증 금 : 입찰등록 마감시까지 제출\\n\\n․ 보증금납부방법 : 이행(입찰)보증보험증권\\n\\n대 리 인\\n\\n사 용 인 감\\n\\n본 입찰에 관한 일체의 권한을 다음의 자에게 위임합니다.\\n\\n성 명 : \\n\\n주민등록번호 : \\n\\n본 입찰에 사용할 인감을 다음과 같이 신고합니다.\\n\\n\\n\\n사용 인감 :            (인)\\n\\n본인은 위의 사업명으로 공고한 하나은행의 입찰에 참가하고자 관련 입찰공고 등 제반사항을 모두 승낙하고 붙임 서류를 첨부하여 입찰참가신청을 합니다.\\n\\n\\n\\n붙임 1. 입찰유의서 1부\\n\\n\\n\\n2023.  06.   .\\n\\n\\n\\n신청인 (인)\\n\\n\\n\\n하나은행 총무부 귀하\\n\\n\\n\\n붙임#2.\\n\\n입 찰 유 의 서\\n\\n\\n\\n제1조 (목적) 이 입찰유의서(이하 \"유의서\"이라 한다)는 주식회사 하나은행 (이하 \"당행\"이라 한다)이 시행하는 공사, 용역, 물품의 구매를 위한 입찰에 있어 당해 입찰에 참가하고자 하는 자가 유의하여야 할 사항을 정함을 그 목적으로 한다.\\n\\n\\n\\n제2조 (입찰참가자격) 입찰에 참가할 수 있는 자는 당행이 요구하는 일정수준 이상인 자라야 하며, 당행의 처분으로 입찰참가자격이 제한 또는 정지된 자는 입찰에 참가할 수 없다.\\n\\n\\n\\n제3조 (입찰참가신청) ① 입찰에 참가하고자 하는 자는 지정된 기한 내에 당행에서 요구하는 다음 각 호의 서류를 입찰신청 마감시간 까지 당행에 제출하여 입찰 신청을 하여야 한다.\\n\\n1. 입찰참가신청서(당행 소정 양식) 및 첨부서류\\n\\n2. 기타 공고 또는 공문에서 요구하는 서류\\n\\n② 제①항 경우에는 원본을 제시하거나 사본에 \"원본과 같음\"을 명기하고 인감(인감증명서상의 인감 또는 입찰참가신청서상의 사용인감)으로 날인하여 제출하여야 한다.\\n\\n\\n\\n제4조 (입찰보증금) ① 총액계약의 입찰금액의 5/100 이상의 공인기관의 보증보험증권(보증서 포함) 등으로 전자입찰시 당행에 납부하여야 한다.\\n\\n② 낙찰자가 소정의 기한 내에 계약을 체결하지 아니할 때에는 입찰보증금을 당행에 귀속한다.\\n\\n③ 입찰보증금은 입찰절차 종료 후 입찰자의 청구에 의하여 반환한다. 그러나 낙찰자의 입찰보증금은 계약체결 시까지 반환하지 아니한다.\\n\\n④ 보증보험증권 또는 보증서 등에 의한 입찰보증금의 보증기간은 입찰서 제출마감일 이전부터 입찰서 제출마감일부터 30일 이후까지 이어야 한다.\\n\\n\\n\\n제5조 (입찰) ① 입찰 참가신청서를 제출한 자가 아니면 입찰에 참가 할 수 없다.\\n\\n② 입찰 전에 위임장을 제출한 경우에는 그 대리인도 입찰에 참가할 수 있다.\\n\\n③ 입찰 참가 부정당한 자 또는 입찰 참가자격을 제한 받고 있는 자는 대리인으로 할 수\\n\\n 없다.\\n\\n④ 입찰에 사용하는 인감은 입찰참가 신청 시 제출한 인감으로 하여야 한다.\\n\\n\\n\\n제6조 (입찰서 작성) ① 입찰은 소정의 서식에 의한 입찰서에 의하여 작성하여야 한다.\\n\\n② 입찰서의 기재사항 중 말소 또는 정정한 곳이 있을 때에는 입찰에 사용하는 인감으로\\n\\n날인하여야 한다.\\n\\n\\n\\n제7조 (입찰서의 제출 등) ① 입찰서는 1인 1통을 제출하는 것을 원칙으로 한다.\\n\\n② 입찰서는 봉함하여 제출하여야 한다. \\n\\n③ 입찰자는 제출한 입찰서를 교환․변경 또는 취소할 수 없다. 다만, 입찰서에 기재한 중요부분에 오기가 있음을 이유로 개찰현장에서 입찰자가 입찰의 취소의사를 표시한 것으로서 당행이 이를 인정하는 경우에는 취소가 가능하다.\\n\\n\\n\\n제8조 (경쟁입찰의 성립) 경쟁입찰은 2인 이상의 유효한 입찰로서 성립한다.\\n\\n\\n\\n제9조 (입찰의 무효) 다음 각 호의 하나에 해당하는 입찰은 무효로 한다.\\n\\n1. 입찰 참가자가 1인인 입찰\\n\\n2. 입찰 참가 자격이 없는 자가 한 입찰\\n\\n3. 대리권이 없는 자가 한 입찰\\n\\n4. 입찰서가 소정의 일시까지 소정 장소에 도착하지 아니한 입찰\\n\\n5. 동일사항에 대하여 동일인이 2통 이상의 입찰서를 제출한 입찰\\n\\n6. 동일사항에 대하여 타인의 대리를 겸하거나 2인 이상을 대리한 입찰\\n\\n7. 입찰서의 중요한 부문이 불분명하거나, 정정한 후 정정날인을 누락한 입찰\\n\\n8. 담합하거나 타인의 경쟁 참가를 방해 또는 집행을 방해한 자의 입찰\\n\\n9. 입찰자의 기명날인이 없는 입찰(입찰참가 신청서에 제출한 인감으로 입찰서에\\n\\n 날인되지 아니한 경우 포함)\\n\\n10. 입찰서에 기재한 중요부분에 착오가 있음을 이유로 개찰현장에서 입찰자가\\n\\n   입찰의 취소의사를 표시한 것으로 당행 담당직원이 이를 인정한 입찰\\n\\n\\n\\n제10조 (관계사항의 숙지) 입찰서는 입찰공고 조건, 입찰유의서, 입찰기기 제안 사양, 기타 입찰에 필요한 모든 사항에 관하여 입찰 전에 완전히 숙지하여야 하며, 이를 숙지하지 못하여 발생한 책임을 입찰 참가자에게 있다.\\n\\n\\n\\n제11조 (입찰의 연기 등) ① 당행은 입찰 공고 후, 필요한 경우에는 입찰 또는 개찰의 일시를 연기할 수 있다. 다만, 이러한 경우에는 그 사유와 연기 일시를 입찰자에게 통지 하여야 한다.\\n\\n② 입찰이 성립되지 아니하거나 낙찰자가 없을 때 에는 다시 입찰에 부칠 수 있다.\\n\\n\\n\\n제12조 (낙찰자의 결정) ① 유효한 입찰자 중 당행에서 정하는 기준의 최고점 득점자를 낙찰자로 한다. 다만, 낙찰대상이 없을 때에는 같은 장소에서 다시 입찰에 부칠 수 있다. \\n\\n② 낙찰자가 될 동가의 입찰자가 2인 이상인 때에는 즉시 추첨으로 낙찰자를 결정할 수 있다.\\n\\n\\n\\n제13조 (계약의 체결) ① 낙찰자는 당행으로부터 낙찰통지를 받은 후 10일 이내에 소정서식의 계약서에 의하여 계약을 체결하여야 한다.\\n\\n② 당행은 낙찰자가 정당한 이유없이 제①항의 규정에 의하여 계약을 체결하지 아니하는 때에는 낙찰을 취소할 수 있다.\\n\\n③ 제①항의 규정에 의하여 당행과 계약을 체결하고자 하는 자는 당행이 필요로 하는 서류를 계약담당직원에게 제출하여야 한다.\\n\\n\\n\\n제14조 (계약의 성립) 계약은 계약서를 작성하고 계약담당직원과 낙찰자가 기명․날인(외국인에 대하여 서명이 포함된 경우에는 서명을 포함)함으로써 확정한다.\\n\\n\\n\\n제15조 (부정당업자의 입찰참가자격 제한) 입찰자 또는 낙찰자가 다음 각 호의 하나에 해당하는 경우에는 1월이상 2년이하의 기간 동안 입찰 참가자격 제한조치를 받게 된다.\\n\\n1. 계약을 이행함에 있어서 부실, 조잡 또는 부정한 행위를 한 자\\n\\n2. 정당한 이유없이 계약을 체결 또는 이행하지 아니한 자\\n\\n3. 경쟁입찰에 있어서 입찰자간에 서로 상의하여 미리 입찰가격을 협정하였거나\\n\\n 특정인의 낙찰을 위하여 담합한 자\\n\\n4. 입찰 또는 계약에 관한 서류를 위조․변조하거나 부정하게 행사한 자 또는\\n\\n   허위서류를 제출한 자\\n\\n5. 고의로 무효의 입찰을 한 자\\n\\n6. 입찰참가신청서 또는 입찰참가승낙서를 제출하고도 정당한 이유없이 당해 입찰에\\n\\n 참가하지 아니한 자\\n\\n7. 입찰참가를 방해하거나 낙찰자의 계약체결 또는 그 이행을 방해한 자\\n\\n8. 감독 또는 검사에 있어서 그 직무의 수행을 방해한 자\\n\\n9. 정당한 이유없이 계약이행능력의 심사에 필요한 서류의 전부 또는 일부를 제출하지\\n\\n 아니한 자 \\n\\n\\n\\n제16조 (비밀유지의 의무) \\n\\n입찰자는 당행으로부터 배부받은 입찰에 관한 서류 또는 각종 자료 및 입찰과정에서\\n\\n얻은 정보를 당해 입찰외 목적으로 사용하여서는 아니된다.\\n\\n\\n\\n제17조 (기타사항)\\n\\n입찰공고조건 및 이 유의서에 명시되지 아니한 기타사항에 대하여는 당행에서 정하는 바에 따른다. 위의 입찰유의사항과 귀행의 입찰조건 및 지시사항을 준수할 것을 승낙하고 아래의 입찰참가를 신청합니다.\\n\\n\\n\\n\\n\\n년     월     일\\n\\n\\n\\n\\n\\n\\n\\n◎ 입찰건명 : 『2023년도 하나은행 가전제품 단가 계약 구매업체 선정』\\n\\n◎ 신청법인 :                         (인)\\n\\n\\n\\n\\n\\n\\n\\n주식회사 하나은행 총무부 귀하', metadata={'source': '/workspace/assets/doc/입찰참가신청서.docx'})]"
      ]
     },
     "execution_count": 7,
     "metadata": {},
     "output_type": "execute_result"
    }
   ],
   "source": [
    "data"
   ]
  },
  {
   "cell_type": "code",
   "execution_count": 8,
   "metadata": {},
   "outputs": [
    {
     "data": {
      "text/plain": [
       "{'source': '/workspace/assets/doc/입찰참가신청서.docx'}"
      ]
     },
     "execution_count": 8,
     "metadata": {},
     "output_type": "execute_result"
    }
   ],
   "source": [
    "data[-1].metadata"
   ]
  },
  {
   "cell_type": "code",
   "execution_count": 9,
   "metadata": {},
   "outputs": [
    {
     "data": {
      "text/plain": [
       "'입 찰 공 고\\n\\n\\n\\n 2023년도 하나은행 가전제품 연간 단가 계약 구매업체 선정\\n\\n\\n\\n1. 입찰에 부치는 사항\\n\\n가. 사업명 : 2023년도 하나은행 가전제품 연간 단가 계약 구매업체 선정\\n\\n나. 구매 품목 : 입찰유의서 별지 참조\\n\\n다. 계약 기간 : 계약일로부터 2년\\n\\n라. 납품 장소 : 영업점(출장소, 부속영업장 포함), 본부부서, 사택(합숙소) 등\\n\\n               당행이 지정하는 장소\\n\\n\\n\\n2. 입찰 및 계약방법 : 제한경쟁입찰, 단가 계약\\n\\n※ 계약은 전체 품목에 대한 총액으로 품목별 단가 계약 체결함\\n\\n\\n\\n3. 입찰참가자격 : 아래 요건을 모두 갖춘 사업체(입찰 공고일 기준)\\n\\n가. 전국 배송 물류망 및 A/S전국망을 갖춘 제조사(삼성, LG)의 공식법인대리점\\n\\n(단, 입찰참여업체의 사업장 소재지는 서울특별시, 인천광역시, 경기도로 제한)\\n\\n- 제조사의 입찰 참가 확인서 제출\\n\\n나. 단가 품목 대상은 KS(한국산업표준) 또는 KC(국가통합인증마크) 취득한 기기\\n\\n※ 위에 기재하지 아니한 입찰참가자격 판단에 관하여는 당행의 판단에 의하며,\\n\\n입찰에 참가하는 자는 당행의 판단 및 해석에 대하여 이의를 제기할 수 없음\\n\\n\\n\\n4. 입찰 참가 자격 제한\\n\\n가. 기업신용평가등급 B0등급 미만업체(Cretop, Creport등 신용평가기관 기준)\\n\\n- 입찰참여 업체의 Cretop, Creport 자료 또는 신용평가기관 자료 제출로 증빙함\\n\\n\\n\\n5. 낙찰자 결정\\n\\n가. 입찰 참여 자격조건을 만족하고 서류심사를 통과한 자에 한해 입찰을 실시하여\\n\\n낙찰자를 선정함\\n\\n나. 입찰 방식 : 전자입찰, 예정가 이하 총액 최저가 낙찰방식\\n\\n※ 전체 합산금액이 예정가격 이하이면서, 최저가인 1순위 업체와 차순위 업체를\\n\\n공동 낙찰자로 선정함[단, 차순위 입찰업체는 1순위 입찰업체 제조사와 다른\\n\\n제조사로 선정하며, 입찰총액이 낮은 입찰자로부터 순차적으로 1순위자 낙찰가\\n\\n(품목별 단가계약가)로 계약체결에 동의한 입찰자를 차순위 낙찰자로 선정한다.\\n\\n(단, 동의한 차순위 낙찰가가 없을 경우 1순위자로 단독 계약을 진행)]\\n\\n※ 발주 비율은 60%(1순위 낙찰자) : 40%(차순위 낙찰자)로 배분함\\n\\n\\n\\n6. 사업추진일정\\n\\n사업자선정을 위한 일정은 다음과 같으며, 본 일정은 하나은행 총무부의 사정에 의해\\n\\n변경될 수 있다. 은행의 사유로 일정 변경 시에는 재공고를 시행한다.\\n\\n가. 공고기간 : 2023. 06. 07 ~ 06. 13(7일간)\\n\\n나. 사업설명회 : 생략\\n\\n다. 입찰참가신청 서류 접수\\n\\n○ 접수기간 : 2023. 06. 07 ~ 06. 13(7일간) \\n\\n※ 업무시간(09:00 ~18:00)에 한해 접수함\\n\\n○ 장    소 : 하나은행 총무부\\n\\n○ 제출방법 : 직접 제출(담당부서 외 접수하지 않음)\\n\\n○ 입찰참가신청 서류\\n\\n- 입찰참가신청서(소정양식) 1부\\n\\n- 입찰유의서(소정양식) 및 입찰유의서 별지 각 1부\\n\\n- 입찰품목 모델명 및 모델번호 리스트(입찰참여시 모델) 1부\\n\\n  ※ 2023년도 생산되는 모델에 한함\\n\\n- 법인사업자등록증 사본(원본대조필 명기 후 인감 날인) 1부\\n\\n- 법인인감증명서 및 사용인감계 각 1부(사용인감계는 필요시)\\n\\n- 대리인 접수시 위임장과 재직증명서 각 1부\\n\\n- 전년도 국세완납증명서 및 지방세 완납증명서 각 1부\\n\\n- 제조사의 공식 대리점 인증서(계약서) 및 입찰참가 확인서 각 1부\\n\\n- 기업신용평가등급 참고자료 1부\\n\\n(Cretop, Creport 자료 또는 기업신용평가기관 자료)\\n\\n- 이행(입찰)보증보험증권 1부\\n\\n* 피보험자 : 하나은행(사업자 번호 : 202-81-14695)\\n\\n라. 입찰 예정일 : 2023. 06. 15\\n\\n마. 결과 발표 : 2023. 06. 16 (※ 업체 앞 개별 통보)\\n\\n\\n\\n7. 입찰보증금\\n\\n본 입찰의 입찰보증금(보증금액 : 투찰금액의 5% 이상, 기간 : 입찰등록마감일로부터\\n\\n30일까지)은 보증보험증권으로 입찰등록 마감시까지 납부하여야 한다.\\n\\n\\n\\n8. 입찰무효\\n\\n하나은행은 다음에 해당하는 입찰에 대하여는 당해 제안자의 제안서는 무효 처리한다.\\n\\n가. 입찰참가자격이 없는 자가 한 입찰\\n\\n나. 동일인(1인이 수개의 법인 또는 사업체의 대표자인 경우 해당 수개의 법인 또는\\n\\n사업체를 동일인으로 간주)이 2개 이상의 제안서를 제출한 입찰\\n\\n다. 동일인이 복수의 제안자를 대리하여 제안서를 제출한 입찰\\n\\n라. 기타 입찰공고, 입찰유의서에 정한 무효 사유가 발생한 경우\\n\\n\\n\\n9. 기 타\\n\\n가. 제출된 서류 및 각종 문서는 일체 반환되지 않으며 본 입찰과 관련된 일체의 소요\\n\\n비용은 입찰참가자의 부담으로 함\\n\\n나. 입찰자는 입찰유의사항 및 입찰관련사항을 사전에 충분히 숙지하고 입찰에\\n\\n응하여야 하며 미숙지로 인한 책임은 입찰자에게 귀속됨\\n\\n다. 납품에 따른 대금 지급은 익월 검수 완료 후 진행되며, 체크카드로 대금 결재함\\n\\n   단, AS 등 유지비용은 전자세금계산서로 대금 결재함\\n\\n라. 기타 사항은 하나은행 총무부 담당자(02-3788-5431)로 문의 바랍니다.\\n\\n\\n\\n\\n\\n2023. 06.\\n\\n\\n\\n\\n\\n\\n\\n하나은행 총무부\\n\\n\\n\\n\\n\\n\\n\\n\\n\\n붙임#1.\\n\\n입찰참가신청서\\n\\n처리기간\\n\\n\\n\\n즉 시\\n\\n신\\n\\n청\\n\\n인\\n\\n사업자명\\n\\n\\n\\n등록번호\\n\\n\\n\\n\\n\\n주 소\\n\\n\\n\\n전 화 번 호\\n\\n\\n\\n\\n\\n대 표 자\\n\\n\\n\\n주민등록번호\\n\\n\\n\\n입\\n\\n찰\\n\\n개\\n\\n요\\n\\n입찰공고\\n\\n\\n\\n등 록 일 자\\n\\n\\n\\n\\n\\n사 업 명\\n\\n2023년도 하나은행 가전제품 단가 계약 구매업체 선정\\n\\n입\\n\\n찰\\n\\n보\\n\\n증\\n\\n금\\n\\n납 부\\n\\n․ 보 증 금 율 : 제안금액의 5% 이상\\n\\n․ 보 증 금 : 입찰등록 마감시까지 제출\\n\\n․ 보증금납부방법 : 이행(입찰)보증보험증권\\n\\n대 리 인\\n\\n사 용 인 감\\n\\n본 입찰에 관한 일체의 권한을 다음의 자에게 위임합니다.\\n\\n성 명 : \\n\\n주민등록번호 : \\n\\n본 입찰에 사용할 인감을 다음과 같이 신고합니다.\\n\\n\\n\\n사용 인감 :            (인)\\n\\n본인은 위의 사업명으로 공고한 하나은행의 입찰에 참가하고자 관련 입찰공고 등 제반사항을 모두 승낙하고 붙임 서류를 첨부하여 입찰참가신청을 합니다.\\n\\n\\n\\n붙임 1. 입찰유의서 1부\\n\\n\\n\\n2023.  06.   .\\n\\n\\n\\n신청인 (인)\\n\\n\\n\\n하나은행 총무부 귀하\\n\\n\\n\\n붙임#2.\\n\\n입 찰 유 의 서\\n\\n\\n\\n제1조 (목적) 이 입찰유의서(이하 \"유의서\"이라 한다)는 주식회사 하나은행 (이하 \"당행\"이라 한다)이 시행하는 공사, 용역, 물품의 구매를 위한 입찰에 있어 당해 입찰에 참가하고자 하는 자가 유의하여야 할 사항을 정함을 그 목적으로 한다.\\n\\n\\n\\n제2조 (입찰참가자격) 입찰에 참가할 수 있는 자는 당행이 요구하는 일정수준 이상인 자라야 하며, 당행의 처분으로 입찰참가자격이 제한 또는 정지된 자는 입찰에 참가할 수 없다.\\n\\n\\n\\n제3조 (입찰참가신청) ① 입찰에 참가하고자 하는 자는 지정된 기한 내에 당행에서 요구하는 다음 각 호의 서류를 입찰신청 마감시간 까지 당행에 제출하여 입찰 신청을 하여야 한다.\\n\\n1. 입찰참가신청서(당행 소정 양식) 및 첨부서류\\n\\n2. 기타 공고 또는 공문에서 요구하는 서류\\n\\n② 제①항 경우에는 원본을 제시하거나 사본에 \"원본과 같음\"을 명기하고 인감(인감증명서상의 인감 또는 입찰참가신청서상의 사용인감)으로 날인하여 제출하여야 한다.\\n\\n\\n\\n제4조 (입찰보증금) ① 총액계약의 입찰금액의 5/100 이상의 공인기관의 보증보험증권(보증서 포함) 등으로 전자입찰시 당행에 납부하여야 한다.\\n\\n② 낙찰자가 소정의 기한 내에 계약을 체결하지 아니할 때에는 입찰보증금을 당행에 귀속한다.\\n\\n③ 입찰보증금은 입찰절차 종료 후 입찰자의 청구에 의하여 반환한다. 그러나 낙찰자의 입찰보증금은 계약체결 시까지 반환하지 아니한다.\\n\\n④ 보증보험증권 또는 보증서 등에 의한 입찰보증금의 보증기간은 입찰서 제출마감일 이전부터 입찰서 제출마감일부터 30일 이후까지 이어야 한다.\\n\\n\\n\\n제5조 (입찰) ① 입찰 참가신청서를 제출한 자가 아니면 입찰에 참가 할 수 없다.\\n\\n② 입찰 전에 위임장을 제출한 경우에는 그 대리인도 입찰에 참가할 수 있다.\\n\\n③ 입찰 참가 부정당한 자 또는 입찰 참가자격을 제한 받고 있는 자는 대리인으로 할 수\\n\\n 없다.\\n\\n④ 입찰에 사용하는 인감은 입찰참가 신청 시 제출한 인감으로 하여야 한다.\\n\\n\\n\\n제6조 (입찰서 작성) ① 입찰은 소정의 서식에 의한 입찰서에 의하여 작성하여야 한다.\\n\\n② 입찰서의 기재사항 중 말소 또는 정정한 곳이 있을 때에는 입찰에 사용하는 인감으로\\n\\n날인하여야 한다.\\n\\n\\n\\n제7조 (입찰서의 제출 등) ① 입찰서는 1인 1통을 제출하는 것을 원칙으로 한다.\\n\\n② 입찰서는 봉함하여 제출하여야 한다. \\n\\n③ 입찰자는 제출한 입찰서를 교환․변경 또는 취소할 수 없다. 다만, 입찰서에 기재한 중요부분에 오기가 있음을 이유로 개찰현장에서 입찰자가 입찰의 취소의사를 표시한 것으로서 당행이 이를 인정하는 경우에는 취소가 가능하다.\\n\\n\\n\\n제8조 (경쟁입찰의 성립) 경쟁입찰은 2인 이상의 유효한 입찰로서 성립한다.\\n\\n\\n\\n제9조 (입찰의 무효) 다음 각 호의 하나에 해당하는 입찰은 무효로 한다.\\n\\n1. 입찰 참가자가 1인인 입찰\\n\\n2. 입찰 참가 자격이 없는 자가 한 입찰\\n\\n3. 대리권이 없는 자가 한 입찰\\n\\n4. 입찰서가 소정의 일시까지 소정 장소에 도착하지 아니한 입찰\\n\\n5. 동일사항에 대하여 동일인이 2통 이상의 입찰서를 제출한 입찰\\n\\n6. 동일사항에 대하여 타인의 대리를 겸하거나 2인 이상을 대리한 입찰\\n\\n7. 입찰서의 중요한 부문이 불분명하거나, 정정한 후 정정날인을 누락한 입찰\\n\\n8. 담합하거나 타인의 경쟁 참가를 방해 또는 집행을 방해한 자의 입찰\\n\\n9. 입찰자의 기명날인이 없는 입찰(입찰참가 신청서에 제출한 인감으로 입찰서에\\n\\n 날인되지 아니한 경우 포함)\\n\\n10. 입찰서에 기재한 중요부분에 착오가 있음을 이유로 개찰현장에서 입찰자가\\n\\n   입찰의 취소의사를 표시한 것으로 당행 담당직원이 이를 인정한 입찰\\n\\n\\n\\n제10조 (관계사항의 숙지) 입찰서는 입찰공고 조건, 입찰유의서, 입찰기기 제안 사양, 기타 입찰에 필요한 모든 사항에 관하여 입찰 전에 완전히 숙지하여야 하며, 이를 숙지하지 못하여 발생한 책임을 입찰 참가자에게 있다.\\n\\n\\n\\n제11조 (입찰의 연기 등) ① 당행은 입찰 공고 후, 필요한 경우에는 입찰 또는 개찰의 일시를 연기할 수 있다. 다만, 이러한 경우에는 그 사유와 연기 일시를 입찰자에게 통지 하여야 한다.\\n\\n② 입찰이 성립되지 아니하거나 낙찰자가 없을 때 에는 다시 입찰에 부칠 수 있다.\\n\\n\\n\\n제12조 (낙찰자의 결정) ① 유효한 입찰자 중 당행에서 정하는 기준의 최고점 득점자를 낙찰자로 한다. 다만, 낙찰대상이 없을 때에는 같은 장소에서 다시 입찰에 부칠 수 있다. \\n\\n② 낙찰자가 될 동가의 입찰자가 2인 이상인 때에는 즉시 추첨으로 낙찰자를 결정할 수 있다.\\n\\n\\n\\n제13조 (계약의 체결) ① 낙찰자는 당행으로부터 낙찰통지를 받은 후 10일 이내에 소정서식의 계약서에 의하여 계약을 체결하여야 한다.\\n\\n② 당행은 낙찰자가 정당한 이유없이 제①항의 규정에 의하여 계약을 체결하지 아니하는 때에는 낙찰을 취소할 수 있다.\\n\\n③ 제①항의 규정에 의하여 당행과 계약을 체결하고자 하는 자는 당행이 필요로 하는 서류를 계약담당직원에게 제출하여야 한다.\\n\\n\\n\\n제14조 (계약의 성립) 계약은 계약서를 작성하고 계약담당직원과 낙찰자가 기명․날인(외국인에 대하여 서명이 포함된 경우에는 서명을 포함)함으로써 확정한다.\\n\\n\\n\\n제15조 (부정당업자의 입찰참가자격 제한) 입찰자 또는 낙찰자가 다음 각 호의 하나에 해당하는 경우에는 1월이상 2년이하의 기간 동안 입찰 참가자격 제한조치를 받게 된다.\\n\\n1. 계약을 이행함에 있어서 부실, 조잡 또는 부정한 행위를 한 자\\n\\n2. 정당한 이유없이 계약을 체결 또는 이행하지 아니한 자\\n\\n3. 경쟁입찰에 있어서 입찰자간에 서로 상의하여 미리 입찰가격을 협정하였거나\\n\\n 특정인의 낙찰을 위하여 담합한 자\\n\\n4. 입찰 또는 계약에 관한 서류를 위조․변조하거나 부정하게 행사한 자 또는\\n\\n   허위서류를 제출한 자\\n\\n5. 고의로 무효의 입찰을 한 자\\n\\n6. 입찰참가신청서 또는 입찰참가승낙서를 제출하고도 정당한 이유없이 당해 입찰에\\n\\n 참가하지 아니한 자\\n\\n7. 입찰참가를 방해하거나 낙찰자의 계약체결 또는 그 이행을 방해한 자\\n\\n8. 감독 또는 검사에 있어서 그 직무의 수행을 방해한 자\\n\\n9. 정당한 이유없이 계약이행능력의 심사에 필요한 서류의 전부 또는 일부를 제출하지\\n\\n 아니한 자 \\n\\n\\n\\n제16조 (비밀유지의 의무) \\n\\n입찰자는 당행으로부터 배부받은 입찰에 관한 서류 또는 각종 자료 및 입찰과정에서\\n\\n얻은 정보를 당해 입찰외 목적으로 사용하여서는 아니된다.\\n\\n\\n\\n제17조 (기타사항)\\n\\n입찰공고조건 및 이 유의서에 명시되지 아니한 기타사항에 대하여는 당행에서 정하는 바에 따른다. 위의 입찰유의사항과 귀행의 입찰조건 및 지시사항을 준수할 것을 승낙하고 아래의 입찰참가를 신청합니다.\\n\\n\\n\\n\\n\\n년     월     일\\n\\n\\n\\n\\n\\n\\n\\n◎ 입찰건명 : 『2023년도 하나은행 가전제품 단가 계약 구매업체 선정』\\n\\n◎ 신청법인 :                         (인)\\n\\n\\n\\n\\n\\n\\n\\n주식회사 하나은행 총무부 귀하'"
      ]
     },
     "execution_count": 9,
     "metadata": {},
     "output_type": "execute_result"
    }
   ],
   "source": [
    "data[-1].page_content"
   ]
  },
  {
   "cell_type": "markdown",
   "metadata": {},
   "source": [
    "## CSV Document Loader"
   ]
  },
  {
   "cell_type": "code",
   "execution_count": 10,
   "metadata": {},
   "outputs": [],
   "source": [
    "from langchain.document_loaders.csv_loader import CSVLoader"
   ]
  },
  {
   "cell_type": "code",
   "execution_count": 14,
   "metadata": {},
   "outputs": [],
   "source": [
    "loader = CSVLoader(file_path='/workspace/assets/doc/mnist_test.csv', csv_args={\n",
    "    'delimiter':',',\n",
    "    'quotechar':'\"'\n",
    "    # 'fieldnames' : ['class', 'feature'],\n",
    "})\n",
    "\n",
    "data = loader.load()"
   ]
  },
  {
   "cell_type": "code",
   "execution_count": 15,
   "metadata": {},
   "outputs": [
    {
     "data": {
      "text/plain": [
       "[Document(page_content='7: 2\\n0: 0\\n84: 0\\n185: 77\\n159: 251\\n151: 210\\n60: 25\\n36: 0\\n222: 0\\n254: 0\\n241: 0\\n198: 0\\n170: 0\\n52: 0\\n67: 63\\n114: 0\\n72: 0\\n163: 0\\n227: 0\\n225: 117\\n250: 10\\n229: 0\\n140: 0\\n17: 0\\n66: 76\\n14: 247\\n59: 0\\n21: 0\\n236: 0\\n106: 0\\n83: 0\\n253: 0\\n209: 0\\n18: 0\\n22: 0\\n233: 0\\n255: 0\\n129: 0\\n238: 0\\n44: 0\\n249: 0\\n62: 0\\n133: 0\\n187: 0\\n5: 0\\n9: 0\\n205: 0\\n248: 0\\n58: 0\\n126: 0\\n182: 0\\n75: 0\\n251: 0\\n240: 0\\n57: 0\\n19: 20\\n221: 20\\n166: 5\\n3: 253\\n203: 253\\n219: 0\\n35: 168\\n38: 253\\n77: 253\\n31: 123\\n224: 123\\n115: 253\\n1: 253\\n61: 0\\n242: 0\\n121: 0\\n40: 0\\n207: 0', metadata={'source': '/workspace/assets/doc/mnist_test.csv', 'row': 0}),\n",
       " Document(page_content='7: 1\\n0: 0\\n84: 0\\n185: 0\\n159: 0\\n151: 0\\n60: 0\\n36: 0\\n222: 0\\n254: 0\\n241: 0\\n198: 0\\n170: 0\\n52: 0\\n67: 216\\n114: 0\\n72: 0\\n163: 0\\n227: 0\\n225: 0\\n250: 11\\n229: 0\\n140: 0\\n17: 0\\n66: 0\\n14: 0\\n59: 0\\n21: 0\\n236: 0\\n106: 0\\n83: 0\\n253: 0\\n209: 0\\n18: 0\\n22: 0\\n233: 0\\n255: 0\\n129: 0\\n238: 0\\n44: 0\\n249: 0\\n62: 0\\n133: 198\\n187: 0\\n5: 0\\n9: 0\\n205: 0\\n248: 0\\n58: 0\\n126: 0\\n182: 0\\n75: 142\\n251: 0\\n240: 0\\n57: 0\\n19: 254\\n221: 66\\n166: 0\\n3: 251\\n203: 254\\n219: 0\\n35: 0\\n38: 254\\n77: 0\\n31: 215\\n224: 254\\n115: 0\\n1: 0\\n61: 0\\n242: 0\\n121: 0\\n40: 0\\n207: 0', metadata={'source': '/workspace/assets/doc/mnist_test.csv', 'row': 1}),\n",
       " Document(page_content='7: 0\\n0: 0\\n84: 0\\n185: 0\\n159: 0\\n151: 0\\n60: 110\\n36: 190\\n222: 0\\n254: 0\\n241: 251\\n198: 51\\n170: 0\\n52: 0\\n67: 62\\n114: 182\\n72: 0\\n163: 255\\n227: 253\\n225: 253\\n250: 253\\n229: 253\\n140: 0\\n17: 251\\n66: 251\\n14: 251\\n59: 0\\n21: 251\\n236: 251\\n106: 0\\n83: 253\\n253: 251\\n209: 243\\n18: 0\\n22: 0\\n233: 109\\n255: 251\\n129: 0\\n238: 200\\n44: 253\\n249: 0\\n62: 202\\n133: 174\\n187: 109\\n5: 251\\n9: 0\\n205: 21\\n248: 63\\n58: 231\\n126: 0\\n182: 251\\n75: 0\\n251: 182\\n240: 221\\n57: 251\\n19: 253\\n221: 253\\n166: 253\\n3: 251\\n203: 251\\n219: 0\\n35: 251\\n38: 251\\n77: 253\\n31: 251\\n224: 251\\n115: 251\\n1: 253\\n61: 0\\n242: 0\\n121: 0\\n40: 0\\n207: 0', metadata={'source': '/workspace/assets/doc/mnist_test.csv', 'row': 2}),\n",
       " Document(page_content='7: 4\\n0: 0\\n84: 0\\n185: 0\\n159: 0\\n151: 4\\n60: 195\\n36: 231\\n222: 0\\n254: 0\\n241: 134\\n198: 114\\n170: 252\\n52: 0\\n67: 0\\n114: 236\\n72: 45\\n163: 217\\n227: 12\\n225: 0\\n250: 0\\n229: 0\\n140: 21\\n17: 0\\n66: 0\\n14: 0\\n59: 0\\n21: 18\\n236: 255\\n106: 21\\n83: 66\\n253: 253\\n209: 189\\n18: 0\\n22: 32\\n233: 232\\n255: 250\\n129: 134\\n238: 211\\n44: 0\\n249: 169\\n62: 167\\n133: 0\\n187: 253\\n5: 107\\n9: 164\\n205: 195\\n248: 252\\n58: 252\\n126: 231\\n182: 252\\n75: 0\\n251: 0\\n240: 161\\n57: 252\\n19: 0\\n221: 0\\n166: 127\\n3: 0\\n203: 0\\n219: 0\\n35: 128\\n38: 0\\n77: 0\\n31: 0\\n224: 0\\n115: 0\\n1: 0\\n61: 0\\n242: 0\\n121: 0\\n40: 0\\n207: 0', metadata={'source': '/workspace/assets/doc/mnist_test.csv', 'row': 3}),\n",
       " Document(page_content='7: 1\\n0: 0\\n84: 0\\n185: 0\\n159: 0\\n151: 0\\n60: 0\\n36: 0\\n222: 0\\n254: 0\\n241: 0\\n198: 0\\n170: 0\\n52: 0\\n67: 254\\n114: 0\\n72: 0\\n163: 0\\n227: 0\\n225: 0\\n250: 250\\n229: 0\\n140: 0\\n17: 0\\n66: 0\\n14: 0\\n59: 28\\n21: 0\\n236: 0\\n106: 0\\n83: 0\\n253: 0\\n209: 0\\n18: 0\\n22: 0\\n233: 0\\n255: 0\\n129: 0\\n238: 0\\n44: 0\\n249: 0\\n62: 0\\n133: 158\\n187: 0\\n5: 0\\n9: 154\\n205: 0\\n248: 0\\n58: 0\\n126: 53\\n182: 0\\n75: 210\\n251: 0\\n240: 0\\n57: 0\\n19: 254\\n221: 131\\n166: 0\\n3: 254\\n203: 234\\n219: 0\\n35: 0\\n38: 254\\n77: 0\\n31: 211\\n224: 254\\n115: 0\\n1: 0\\n61: 0\\n242: 26\\n121: 0\\n40: 0\\n207: 0', metadata={'source': '/workspace/assets/doc/mnist_test.csv', 'row': 4})]"
      ]
     },
     "execution_count": 15,
     "metadata": {},
     "output_type": "execute_result"
    }
   ],
   "source": [
    "# 5행까지의 결과 확인\n",
    "data[:5]"
   ]
  },
  {
   "cell_type": "markdown",
   "metadata": {},
   "source": [
    "# Text Splitters\n",
    "토큰 제한이 있는 LLM이 여러 문장을 참고해 답변할 수 있도록 문서를 분할(chunking)하는 역할"
   ]
  },
  {
   "cell_type": "markdown",
   "metadata": {},
   "source": [
    "## CharacterTextSplitter\n",
    "* 구분자 1개 기준으로 분할하므로, max_token을 지키지 못하는 경우 발생"
   ]
  },
  {
   "cell_type": "code",
   "execution_count": 19,
   "metadata": {},
   "outputs": [],
   "source": [
    "with open('/workspace/assets/doc/state_of_the_union.txt') as f :\n",
    "    state_of_the_union = f.read()"
   ]
  },
  {
   "cell_type": "code",
   "execution_count": 16,
   "metadata": {},
   "outputs": [],
   "source": [
    "from langchain.text_splitter import CharacterTextSplitter\n",
    "text_splitter = CharacterTextSplitter(\n",
    "    separator=\"\\n\\n\",\n",
    "    chunk_size=1000,\n",
    "    chunk_overlap=100,\n",
    "    length_function=len,\n",
    ")"
   ]
  },
  {
   "cell_type": "code",
   "execution_count": 20,
   "metadata": {},
   "outputs": [],
   "source": [
    "texts = text_splitter.split_text(state_of_the_union)"
   ]
  },
  {
   "cell_type": "code",
   "execution_count": 21,
   "metadata": {},
   "outputs": [
    {
     "name": "stdout",
     "output_type": "stream",
     "text": [
      "Madam Speaker, Madam Vice President, our First Lady and Second Gentleman. Members of Congress and the Cabinet. Justices of the Supreme Court. My fellow Americans.  \n",
      "\n",
      "Last year COVID-19 kept us apart. This year we are finally together again. \n",
      "\n",
      "Tonight, we meet as Democrats Republicans and Independents. But most importantly as Americans. \n",
      "\n",
      "With a duty to one another to the American people to the Constitution. \n",
      "\n",
      "And with an unwavering resolve that freedom will always triumph over tyranny. \n",
      "\n",
      "Six days ago, Russia’s Vladimir Putin sought to shake the foundations of the free world thinking he could make it bend to his menacing ways. But he badly miscalculated. \n",
      "\n",
      "He thought he could roll into Ukraine and the world would roll over. Instead he met a wall of strength he never imagined. \n",
      "\n",
      "He met the Ukrainian people. \n",
      "\n",
      "From President Zelenskyy to every Ukrainian, their fearlessness, their courage, their determination, inspires the world.\n"
     ]
    }
   ],
   "source": [
    "print(texts[0])"
   ]
  },
  {
   "cell_type": "code",
   "execution_count": 22,
   "metadata": {},
   "outputs": [
    {
     "name": "stdout",
     "output_type": "stream",
     "text": [
      "Groups of citizens blocking tanks with their bodies. Everyone from students to retirees teachers turned soldiers defending their homeland. \n",
      "\n",
      "In this struggle as President Zelenskyy said in his speech to the European Parliament “Light will win over darkness.” The Ukrainian Ambassador to the United States is here tonight. \n",
      "\n",
      "Let each of us here tonight in this Chamber send an unmistakable signal to Ukraine and to the world. \n",
      "\n",
      "Please rise if you are able and show that, Yes, we the United States of America stand with the Ukrainian people. \n",
      "\n",
      "Throughout our history we’ve learned this lesson when dictators do not pay a price for their aggression they cause more chaos.   \n",
      "\n",
      "They keep moving.   \n",
      "\n",
      "And the costs and the threats to America and the world keep rising.   \n",
      "\n",
      "That’s why the NATO Alliance was created to secure peace and stability in Europe after World War 2. \n",
      "\n",
      "The United States is a member along with 29 other nations. \n",
      "\n",
      "It matters. American diplomacy matters. American resolve matters.\n"
     ]
    }
   ],
   "source": [
    "print(texts[1])"
   ]
  },
  {
   "cell_type": "code",
   "execution_count": 24,
   "metadata": {},
   "outputs": [
    {
     "name": "stdout",
     "output_type": "stream",
     "text": [
      "[939, 995, 810, 962, 994, 883, 957, 952, 928, 915, 993, 702, 900, 950, 957, 958, 967, 996, 796, 866, 888, 966, 964, 977, 998, 948, 925, 924, 989, 965, 938, 936, 981, 965, 771, 982, 972, 977, 984, 999, 968, 801]\n"
     ]
    }
   ],
   "source": [
    "char_list = list()\n",
    "for text in texts:\n",
    "    char_list.append(len(text))\n",
    "print(char_list)"
   ]
  },
  {
   "cell_type": "code",
   "execution_count": 25,
   "metadata": {},
   "outputs": [
    {
     "data": {
      "text/plain": [
       "[Document(page_content='Madam Speaker, Madam Vice President, our First Lady and Second Gentleman. Members of Congress and the Cabinet. Justices of the Supreme Court. My fellow Americans.  \\n\\nLast year COVID-19 kept us apart. This year we are finally together again. \\n\\nTonight, we meet as Democrats Republicans and Independents. But most importantly as Americans. \\n\\nWith a duty to one another to the American people to the Constitution. \\n\\nAnd with an unwavering resolve that freedom will always triumph over tyranny. \\n\\nSix days ago, Russia’s Vladimir Putin sought to shake the foundations of the free world thinking he could make it bend to his menacing ways. But he badly miscalculated. \\n\\nHe thought he could roll into Ukraine and the world would roll over. Instead he met a wall of strength he never imagined. \\n\\nHe met the Ukrainian people. \\n\\nFrom President Zelenskyy to every Ukrainian, their fearlessness, their courage, their determination, inspires the world.'),\n",
       " Document(page_content='Groups of citizens blocking tanks with their bodies. Everyone from students to retirees teachers turned soldiers defending their homeland. \\n\\nIn this struggle as President Zelenskyy said in his speech to the European Parliament “Light will win over darkness.” The Ukrainian Ambassador to the United States is here tonight. \\n\\nLet each of us here tonight in this Chamber send an unmistakable signal to Ukraine and to the world. \\n\\nPlease rise if you are able and show that, Yes, we the United States of America stand with the Ukrainian people. \\n\\nThroughout our history we’ve learned this lesson when dictators do not pay a price for their aggression they cause more chaos.   \\n\\nThey keep moving.   \\n\\nAnd the costs and the threats to America and the world keep rising.   \\n\\nThat’s why the NATO Alliance was created to secure peace and stability in Europe after World War 2. \\n\\nThe United States is a member along with 29 other nations. \\n\\nIt matters. American diplomacy matters. American resolve matters.'),\n",
       " Document(page_content='It matters. American diplomacy matters. American resolve matters. \\n\\nPutin’s latest attack on Ukraine was premeditated and unprovoked. \\n\\nHe rejected repeated efforts at diplomacy. \\n\\nHe thought the West and NATO wouldn’t respond. And he thought he could divide us at home. Putin was wrong. We were ready.  Here is what we did.   \\n\\nWe prepared extensively and carefully. \\n\\nWe spent months building a coalition of other freedom-loving nations from Europe and the Americas to Asia and Africa to confront Putin. \\n\\nI spent countless hours unifying our European allies. We shared with the world in advance what we knew Putin was planning and precisely how he would try to falsely justify his aggression.  \\n\\nWe countered Russia’s lies with truth.   \\n\\nAnd now that he has acted the free world is holding him accountable.'),\n",
       " Document(page_content='And now that he has acted the free world is holding him accountable. \\n\\nAlong with twenty-seven members of the European Union including France, Germany, Italy, as well as countries like the United Kingdom, Canada, Japan, Korea, Australia, New Zealand, and many others, even Switzerland. \\n\\nWe are inflicting pain on Russia and supporting the people of Ukraine. Putin is now isolated from the world more than ever. \\n\\nTogether with our allies –we are right now enforcing powerful economic sanctions. \\n\\nWe are cutting off Russia’s largest banks from the international financial system.  \\n\\nPreventing Russia’s central bank from defending the Russian Ruble making Putin’s $630 Billion “war fund” worthless.   \\n\\nWe are choking off Russia’s access to technology that will sap its economic strength and weaken its military for years to come.  \\n\\nTonight I say to the Russian oligarchs and corrupt leaders who have bilked billions of dollars off this violent regime no more.'),\n",
       " Document(page_content='The U.S. Department of Justice is assembling a dedicated task force to go after the crimes of Russian oligarchs.  \\n\\nWe are joining with our European allies to find and seize your yachts your luxury apartments your private jets. We are coming for your ill-begotten gains. \\n\\nAnd tonight I am announcing that we will join our allies in closing off American air space to all Russian flights – further isolating Russia – and adding an additional squeeze –on their economy. The Ruble has lost 30% of its value. \\n\\nThe Russian stock market has lost 40% of its value and trading remains suspended. Russia’s economy is reeling and Putin alone is to blame. \\n\\nTogether with our allies we are providing support to the Ukrainians in their fight for freedom. Military assistance. Economic assistance. Humanitarian assistance. \\n\\nWe are giving more than $1 Billion in direct assistance to Ukraine. \\n\\nAnd we will continue to aid the Ukrainian people as they defend their country and to help ease their suffering.'),\n",
       " Document(page_content='Let me be clear, our forces are not engaged and will not engage in conflict with Russian forces in Ukraine.  \\n\\nOur forces are not going to Europe to fight in Ukraine, but to defend our NATO Allies – in the event that Putin decides to keep moving west.  \\n\\nFor that purpose we’ve mobilized American ground forces, air squadrons, and ship deployments to protect NATO countries including Poland, Romania, Latvia, Lithuania, and Estonia. \\n\\nAs I have made crystal clear the United States and our Allies will defend every inch of territory of NATO countries with the full force of our collective power.  \\n\\nAnd we remain clear-eyed. The Ukrainians are fighting back with pure courage. But the next few days weeks, months, will be hard on them.  \\n\\nPutin has unleashed violence and chaos.  But while he may make gains on the battlefield – he will pay a continuing high price over the long run.'),\n",
       " Document(page_content='And a proud Ukrainian people, who have known 30 years  of independence, have repeatedly shown that they will not tolerate anyone who tries to take their country backwards.  \\n\\nTo all Americans, I will be honest with you, as I’ve always promised. A Russian dictator, invading a foreign country, has costs around the world. \\n\\nAnd I’m taking robust action to make sure the pain of our sanctions  is targeted at Russia’s economy. And I will use every tool at our disposal to protect American businesses and consumers. \\n\\nTonight, I can announce that the United States has worked with 30 other countries to release 60 Million barrels of oil from reserves around the world.  \\n\\nAmerica will lead that effort, releasing 30 Million barrels from our own Strategic Petroleum Reserve. And we stand ready to do more if necessary, unified with our allies.  \\n\\nThese steps will help blunt gas prices here at home. And I know the news about what’s happening can seem alarming.'),\n",
       " Document(page_content='But I want you to know that we are going to be okay. \\n\\nWhen the history of this era is written Putin’s war on Ukraine will have left Russia weaker and the rest of the world stronger. \\n\\nWhile it shouldn’t have taken something so terrible for people around the world to see what’s at stake now everyone sees it clearly. \\n\\nWe see the unity among leaders of nations and a more unified Europe a more unified West. And we see unity among the people who are gathering in cities in large crowds around the world even in Russia to demonstrate their support for Ukraine.  \\n\\nIn the battle between democracy and autocracy, democracies are rising to the moment, and the world is clearly choosing the side of peace and security. \\n\\nThis is a real test. It’s going to take time. So let us continue to draw inspiration from the iron will of the Ukrainian people. \\n\\nTo our fellow Ukrainian Americans who forge a deep bond that connects our two nations we stand with you.'),\n",
       " Document(page_content='Putin may circle Kyiv with tanks, but he will never gain the hearts and souls of the Ukrainian people. \\n\\nHe will never extinguish their love of freedom. He will never weaken the resolve of the free world. \\n\\nWe meet tonight in an America that has lived through two of the hardest years this nation has ever faced. \\n\\nThe pandemic has been punishing. \\n\\nAnd so many families are living paycheck to paycheck, struggling to keep up with the rising cost of food, gas, housing, and so much more. \\n\\nI understand. \\n\\nI remember when my Dad had to leave our home in Scranton, Pennsylvania to find work. I grew up in a family where if the price of food went up, you felt it. \\n\\nThat’s why one of the first things I did as President was fight to pass the American Rescue Plan.  \\n\\nBecause people were hurting. We needed to act, and we did. \\n\\nFew pieces of legislation have done more in a critical moment in our history to lift us out of crisis.'),\n",
       " Document(page_content='It fueled our efforts to vaccinate the nation and combat COVID-19. It delivered immediate economic relief for tens of millions of Americans.  \\n\\nHelped put food on their table, keep a roof over their heads, and cut the cost of health insurance. \\n\\nAnd as my Dad used to say, it gave people a little breathing room. \\n\\nAnd unlike the $2 Trillion tax cut passed in the previous administration that benefitted the top 1% of Americans, the American Rescue Plan helped working people—and left no one behind. \\n\\nAnd it worked. It created jobs. Lots of jobs. \\n\\nIn fact—our economy created over 6.5 Million new jobs just last year, more jobs created in one year  \\nthan ever before in the history of America. \\n\\nOur economy grew at a rate of 5.7% last year, the strongest growth in nearly 40 years, the first step in bringing fundamental change to an economy that hasn’t worked for the working people of this nation for too long.'),\n",
       " Document(page_content='For the past 40 years we were told that if we gave tax breaks to those at the very top, the benefits would trickle down to everyone else. \\n\\nBut that trickle-down theory led to weaker economic growth, lower wages, bigger deficits, and the widest gap between those at the top and everyone else in nearly a century. \\n\\nVice President Harris and I ran for office with a new economic vision for America. \\n\\nInvest in America. Educate Americans. Grow the workforce. Build the economy from the bottom up  \\nand the middle out, not from the top down.  \\n\\nBecause we know that when the middle class grows, the poor have a ladder up and the wealthy do very well. \\n\\nAmerica used to have the best roads, bridges, and airports on Earth. \\n\\nNow our infrastructure is ranked 13th in the world. \\n\\nWe won’t be able to compete for the jobs of the 21st Century if we don’t fix that. \\n\\nThat’s why it was so important to pass the Bipartisan Infrastructure Law—the most sweeping investment to rebuild America in history.'),\n",
       " Document(page_content='This was a bipartisan effort, and I want to thank the members of both parties who worked to make it happen. \\n\\nWe’re done talking about infrastructure weeks. \\n\\nWe’re going to have an infrastructure decade. \\n\\nIt is going to transform America and put us on a path to win the economic competition of the 21st Century that we face with the rest of the world—particularly with China.  \\n\\nAs I’ve told Xi Jinping, it is never a good bet to bet against the American people. \\n\\nWe’ll create good jobs for millions of Americans, modernizing roads, airports, ports, and waterways all across America. \\n\\nAnd we’ll do it all to withstand the devastating effects of the climate crisis and promote environmental justice.'),\n",
       " Document(page_content='We’ll build a national network of 500,000 electric vehicle charging stations, begin to replace poisonous lead pipes—so every child—and every American—has clean water to drink at home and at school, provide affordable high-speed internet for every American—urban, suburban, rural, and tribal communities. \\n\\n4,000 projects have already been announced. \\n\\nAnd tonight, I’m announcing that this year we will start fixing over 65,000 miles of highway and 1,500 bridges in disrepair. \\n\\nWhen we use taxpayer dollars to rebuild America – we are going to Buy American: buy American products to support American jobs. \\n\\nThe federal government spends about $600 Billion a year to keep the country safe and secure. \\n\\nThere’s been a law on the books for almost a century \\nto make sure taxpayers’ dollars support American jobs and businesses. \\n\\nEvery Administration says they’ll do it, but we are actually doing it.'),\n",
       " Document(page_content='Every Administration says they’ll do it, but we are actually doing it. \\n\\nWe will buy American to make sure everything from the deck of an aircraft carrier to the steel on highway guardrails are made in America. \\n\\nBut to compete for the best jobs of the future, we also need to level the playing field with China and other competitors. \\n\\nThat’s why it is so important to pass the Bipartisan Innovation Act sitting in Congress that will make record investments in emerging technologies and American manufacturing. \\n\\nLet me give you one example of why it’s so important to pass it. \\n\\nIf you travel 20 miles east of Columbus, Ohio, you’ll find 1,000 empty acres of land. \\n\\nIt won’t look like much, but if you stop and look closely, you’ll see a “Field of dreams,” the ground on which America’s future will be built. \\n\\nThis is where Intel, the American company that helped build Silicon Valley, is going to build its $20 billion semiconductor “mega site”.'),\n",
       " Document(page_content='Up to eight state-of-the-art factories in one place. 10,000 new good-paying jobs. \\n\\nSome of the most sophisticated manufacturing in the world to make computer chips the size of a fingertip that power the world and our everyday lives. \\n\\nSmartphones. The Internet. Technology we have yet to invent. \\n\\nBut that’s just the beginning. \\n\\nIntel’s CEO, Pat Gelsinger, who is here tonight, told me they are ready to increase their investment from  \\n$20 billion to $100 billion. \\n\\nThat would be one of the biggest investments in manufacturing in American history. \\n\\nAnd all they’re waiting for is for you to pass this bill. \\n\\nSo let’s not wait any longer. Send it to my desk. I’ll sign it.  \\n\\nAnd we will really take off. \\n\\nAnd Intel is not alone. \\n\\nThere’s something happening in America. \\n\\nJust look around and you’ll see an amazing story. \\n\\nThe rebirth of the pride that comes from stamping products “Made In America.” The revitalization of American manufacturing.'),\n",
       " Document(page_content='Companies are choosing to build new factories here, when just a few years ago, they would have built them overseas. \\n\\nThat’s what is happening. Ford is investing $11 billion to build electric vehicles, creating 11,000 jobs across the country. \\n\\nGM is making the largest investment in its history—$7 billion to build electric vehicles, creating 4,000 jobs in Michigan. \\n\\nAll told, we created 369,000 new manufacturing jobs in America just last year. \\n\\nPowered by people I’ve met like JoJo Burgess, from generations of union steelworkers from Pittsburgh, who’s here with us tonight. \\n\\nAs Ohio Senator Sherrod Brown says, “It’s time to bury the label “Rust Belt.” \\n\\nIt’s time. \\n\\nBut with all the bright spots in our economy, record job growth and higher wages, too many families are struggling to keep up with the bills.  \\n\\nInflation is robbing them of the gains they might otherwise feel. \\n\\nI get it. That’s why my top priority is getting prices under control.'),\n",
       " Document(page_content='I get it. That’s why my top priority is getting prices under control. \\n\\nLook, our economy roared back faster than most predicted, but the pandemic meant that businesses had a hard time hiring enough workers to keep up production in their factories. \\n\\nThe pandemic also disrupted global supply chains. \\n\\nWhen factories close, it takes longer to make goods and get them from the warehouse to the store, and prices go up. \\n\\nLook at cars. \\n\\nLast year, there weren’t enough semiconductors to make all the cars that people wanted to buy. \\n\\nAnd guess what, prices of automobiles went up. \\n\\nSo—we have a choice. \\n\\nOne way to fight inflation is to drive down wages and make Americans poorer.  \\n\\nI have a better plan to fight inflation. \\n\\nLower your costs, not your wages. \\n\\nMake more cars and semiconductors in America. \\n\\nMore infrastructure and innovation in America. \\n\\nMore goods moving faster and cheaper in America. \\n\\nMore jobs where you can earn a good living in America.'),\n",
       " Document(page_content='More jobs where you can earn a good living in America. \\n\\nAnd instead of relying on foreign supply chains, let’s make it in America. \\n\\nEconomists call it “increasing the productive capacity of our economy.” \\n\\nI call it building a better America. \\n\\nMy plan to fight inflation will lower your costs and lower the deficit. \\n\\n17 Nobel laureates in economics say my plan will ease long-term inflationary pressures. Top business leaders and most Americans support my plan. And here’s the plan: \\n\\nFirst – cut the cost of prescription drugs. Just look at insulin. One in ten Americans has diabetes. In Virginia, I met a 13-year-old boy named Joshua Davis.  \\n\\nHe and his Dad both have Type 1 diabetes, which means they need insulin every day. Insulin costs about $10 a vial to make.  \\n\\nBut drug companies charge families like Joshua and his Dad up to 30 times more. I spoke with Joshua’s mom. \\n\\nImagine what it’s like to look at your child who needs insulin and have no idea how you’re going to pay for it.'),\n",
       " Document(page_content='What it does to your dignity, your ability to look your child in the eye, to be the parent you expect to be. \\n\\nJoshua is here with us tonight. Yesterday was his birthday. Happy birthday, buddy.  \\n\\nFor Joshua, and for the 200,000 other young people with Type 1 diabetes, let’s cap the cost of insulin at $35 a month so everyone can afford it.  \\n\\nDrug companies will still do very well. And while we’re at it let Medicare negotiate lower prices for prescription drugs, like the VA already does. \\n\\nLook, the American Rescue Plan is helping millions of families on Affordable Care Act plans save $2,400 a year on their health care premiums. Let’s close the coverage gap and make those savings permanent. \\n\\nSecond – cut energy costs for families an average of $500 a year by combatting climate change.'),\n",
       " Document(page_content='Second – cut energy costs for families an average of $500 a year by combatting climate change.  \\n\\nLet’s provide investments and tax credits to weatherize your homes and businesses to be energy efficient and you get a tax credit; double America’s clean energy production in solar, wind, and so much more;  lower the price of electric vehicles, saving you another $80 a month because you’ll never have to pay at the gas pump again. \\n\\nThird – cut the cost of child care. Many families pay up to $14,000 a year for child care per child.  \\n\\nMiddle-class and working families shouldn’t have to pay more than 7% of their income for care of young children.  \\n\\nMy plan will cut the cost in half for most families and help parents, including millions of women, who left the workforce during the pandemic because they couldn’t afford child care, to be able to get back to work.'),\n",
       " Document(page_content='My plan doesn’t stop there. It also includes home and long-term care. More affordable housing. And Pre-K for every 3- and 4-year-old.  \\n\\nAll of these will lower costs. \\n\\nAnd under my plan, nobody earning less than $400,000 a year will pay an additional penny in new taxes. Nobody.  \\n\\nThe one thing all Americans agree on is that the tax system is not fair. We have to fix it.  \\n\\nI’m not looking to punish anyone. But let’s make sure corporations and the wealthiest Americans start paying their fair share. \\n\\nJust last year, 55 Fortune 500 corporations earned $40 billion in profits and paid zero dollars in federal income tax.  \\n\\nThat’s simply not fair. That’s why I’ve proposed a 15% minimum tax rate for corporations. \\n\\nWe got more than 130 countries to agree on a global minimum tax rate so companies can’t get out of paying their taxes at home by shipping jobs and factories overseas.'),\n",
       " Document(page_content='That’s why I’ve proposed closing loopholes so the very wealthy don’t pay a lower tax rate than a teacher or a firefighter.  \\n\\nSo that’s my plan. It will grow the economy and lower costs for families. \\n\\nSo what are we waiting for? Let’s get this done. And while you’re at it, confirm my nominees to the Federal Reserve, which plays a critical role in fighting inflation.  \\n\\nMy plan will not only lower costs to give families a fair shot, it will lower the deficit. \\n\\nThe previous Administration not only ballooned the deficit with tax cuts for the very wealthy and corporations, it undermined the watchdogs whose job was to keep pandemic relief funds from being wasted. \\n\\nBut in my administration, the watchdogs have been welcomed back. \\n\\nWe’re going after the criminals who stole billions in relief money meant for small businesses and millions of Americans.  \\n\\nAnd tonight, I’m announcing that the Justice Department will name a chief prosecutor for pandemic fraud.'),\n",
       " Document(page_content='By the end of this year, the deficit will be down to less than half what it was before I took office.  \\n\\nThe only president ever to cut the deficit by more than one trillion dollars in a single year. \\n\\nLowering your costs also means demanding more competition. \\n\\nI’m a capitalist, but capitalism without competition isn’t capitalism. \\n\\nIt’s exploitation—and it drives up prices. \\n\\nWhen corporations don’t have to compete, their profits go up, your prices go up, and small businesses and family farmers and ranchers go under. \\n\\nWe see it happening with ocean carriers moving goods in and out of America. \\n\\nDuring the pandemic, these foreign-owned companies raised prices by as much as 1,000% and made record profits. \\n\\nTonight, I’m announcing a crackdown on these companies overcharging American businesses and consumers. \\n\\nAnd as Wall Street firms take over more nursing homes, quality in those homes has gone down and costs have gone up.  \\n\\nThat ends on my watch.'),\n",
       " Document(page_content='That ends on my watch. \\n\\nMedicare is going to set higher standards for nursing homes and make sure your loved ones get the care they deserve and expect. \\n\\nWe’ll also cut costs and keep the economy going strong by giving workers a fair shot, provide more training and apprenticeships, hire them based on their skills not degrees. \\n\\nLet’s pass the Paycheck Fairness Act and paid leave.  \\n\\nRaise the minimum wage to $15 an hour and extend the Child Tax Credit, so no one has to raise a family in poverty. \\n\\nLet’s increase Pell Grants and increase our historic support of HBCUs, and invest in what Jill—our First Lady who teaches full-time—calls America’s best-kept secret: community colleges. \\n\\nAnd let’s pass the PRO Act when a majority of workers want to form a union—they shouldn’t be stopped.  \\n\\nWhen we invest in our workers, when we build the economy from the bottom up and the middle out together, we can do something we haven’t done in a long time: build a better America.'),\n",
       " Document(page_content='For more than two years, COVID-19 has impacted every decision in our lives and the life of the nation. \\n\\nAnd I know you’re tired, frustrated, and exhausted. \\n\\nBut I also know this. \\n\\nBecause of the progress we’ve made, because of your resilience and the tools we have, tonight I can say  \\nwe are moving forward safely, back to more normal routines.  \\n\\nWe’ve reached a new moment in the fight against COVID-19, with severe cases down to a level not seen since last July.  \\n\\nJust a few days ago, the Centers for Disease Control and Prevention—the CDC—issued new mask guidelines. \\n\\nUnder these new guidelines, most Americans in most of the country can now be mask free.   \\n\\nAnd based on the projections, more of the country will reach that point across the next couple of weeks. \\n\\nThanks to the progress we have made this past year, COVID-19 need no longer control our lives.  \\n\\nI know some are talking about “living with COVID-19”. Tonight – I say that we will never just accept living with COVID-19.'),\n",
       " Document(page_content='We will continue to combat the virus as we do other diseases. And because this is a virus that mutates and spreads, we will stay on guard. \\n\\nHere are four common sense steps as we move forward safely.  \\n\\nFirst, stay protected with vaccines and treatments. We know how incredibly effective vaccines are. If you’re vaccinated and boosted you have the highest degree of protection. \\n\\nWe will never give up on vaccinating more Americans. Now, I know parents with kids under 5 are eager to see a vaccine authorized for their children. \\n\\nThe scientists are working hard to get that done and we’ll be ready with plenty of vaccines when they do. \\n\\nWe’re also ready with anti-viral treatments. If you get COVID-19, the Pfizer pill reduces your chances of ending up in the hospital by 90%.  \\n\\nWe’ve ordered more of these pills than anyone in the world. And Pfizer is working overtime to get us 1 Million pills this month and more than double that next month.'),\n",
       " Document(page_content='And we’re launching the “Test to Treat” initiative so people can get tested at a pharmacy, and if they’re positive, receive antiviral pills on the spot at no cost.  \\n\\nIf you’re immunocompromised or have some other vulnerability, we have treatments and free high-quality masks. \\n\\nWe’re leaving no one behind or ignoring anyone’s needs as we move forward. \\n\\nAnd on testing, we have made hundreds of millions of tests available for you to order for free.   \\n\\nEven if you already ordered free tests tonight, I am announcing that you can order more from covidtests.gov starting next week. \\n\\nSecond – we must prepare for new variants. Over the past year, we’ve gotten much better at detecting new variants. \\n\\nIf necessary, we’ll be able to deploy new vaccines within 100 days instead of many more months or years.  \\n\\nAnd, if Congress provides the funds we need, we’ll have new stockpiles of tests, masks, and pills ready if needed.'),\n",
       " Document(page_content='I cannot promise a new variant won’t come. But I can promise you we’ll do everything within our power to be ready if it does.  \\n\\nThird – we can end the shutdown of schools and businesses. We have the tools we need. \\n\\nIt’s time for Americans to get back to work and fill our great downtowns again.  People working from home can feel safe to begin to return to the office.   \\n\\nWe’re doing that here in the federal government. The vast majority of federal workers will once again work in person. \\n\\nOur schools are open. Let’s keep it that way. Our kids need to be in school. \\n\\nAnd with 75% of adult Americans fully vaccinated and hospitalizations down by 77%, most Americans can remove their masks, return to work, stay in the classroom, and move forward safely. \\n\\nWe achieved this because we provided free vaccines, treatments, tests, and masks. \\n\\nOf course, continuing this costs money. \\n\\nI will soon send Congress a request.'),\n",
       " Document(page_content='Of course, continuing this costs money. \\n\\nI will soon send Congress a request. \\n\\nThe vast majority of Americans have used these tools and may want to again, so I expect Congress to pass it quickly.   \\n\\nFourth, we will continue vaccinating the world.     \\n\\nWe’ve sent 475 Million vaccine doses to 112 countries, more than any other nation. \\n\\nAnd we won’t stop. \\n\\nWe have lost so much to COVID-19. Time with one another. And worst of all, so much loss of life. \\n\\nLet’s use this moment to reset. Let’s stop looking at COVID-19 as a partisan dividing line and see it for what it is: A God-awful disease.  \\n\\nLet’s stop seeing each other as enemies, and start seeing each other for who we really are: Fellow Americans.  \\n\\nWe can’t change how divided we’ve been. But we can change how we move forward—on COVID-19 and other issues we must face together. \\n\\nI recently visited the New York City Police Department days after the funerals of Officer Wilbert Mora and his partner, Officer Jason Rivera.'),\n",
       " Document(page_content='They were responding to a 9-1-1 call when a man shot and killed them with a stolen gun. \\n\\nOfficer Mora was 27 years old. \\n\\nOfficer Rivera was 22. \\n\\nBoth Dominican Americans who’d grown up on the same streets they later chose to patrol as police officers. \\n\\nI spoke with their families and told them that we are forever in debt for their sacrifice, and we will carry on their mission to restore the trust and safety every community deserves. \\n\\nI’ve worked on these issues a long time. \\n\\nI know what works: Investing in crime preventionand community police officers who’ll walk the beat, who’ll know the neighborhood, and who can restore trust and safety. \\n\\nSo let’s not abandon our streets. Or choose between safety and equal justice. \\n\\nLet’s come together to protect our communities, restore trust, and hold law enforcement accountable. \\n\\nThat’s why the Justice Department required body cameras, banned chokeholds, and restricted no-knock warrants for its officers.'),\n",
       " Document(page_content='That’s why the American Rescue Plan provided $350 Billion that cities, states, and counties can use to hire more police and invest in proven strategies like community violence interruption—trusted messengers breaking the cycle of violence and trauma and giving young people hope.  \\n\\nWe should all agree: The answer is not to Defund the police. The answer is to FUND the police with the resources and training they need to protect our communities. \\n\\nI ask Democrats and Republicans alike: Pass my budget and keep our neighborhoods safe.  \\n\\nAnd I will keep doing everything in my power to crack down on gun trafficking and ghost guns you can buy online and make at home—they have no serial numbers and can’t be traced. \\n\\nAnd I ask Congress to pass proven measures to reduce gun violence. Pass universal background checks. Why should anyone on a terrorist list be able to purchase a weapon? \\n\\nBan assault weapons and high-capacity magazines.'),\n",
       " Document(page_content='Ban assault weapons and high-capacity magazines. \\n\\nRepeal the liability shield that makes gun manufacturers the only industry in America that can’t be sued. \\n\\nThese laws don’t infringe on the Second Amendment. They save lives. \\n\\nThe most fundamental right in America is the right to vote – and to have it counted. And it’s under assault. \\n\\nIn state after state, new laws have been passed, not only to suppress the vote, but to subvert entire elections. \\n\\nWe cannot let this happen. \\n\\nTonight. I call on the Senate to: Pass the Freedom to Vote Act. Pass the John Lewis Voting Rights Act. And while you’re at it, pass the Disclose Act so Americans can know who is funding our elections. \\n\\nTonight, I’d like to honor someone who has dedicated his life to serve this country: Justice Stephen Breyer—an Army veteran, Constitutional scholar, and retiring Justice of the United States Supreme Court. Justice Breyer, thank you for your service.'),\n",
       " Document(page_content='One of the most serious constitutional responsibilities a President has is nominating someone to serve on the United States Supreme Court. \\n\\nAnd I did that 4 days ago, when I nominated Circuit Court of Appeals Judge Ketanji Brown Jackson. One of our nation’s top legal minds, who will continue Justice Breyer’s legacy of excellence. \\n\\nA former top litigator in private practice. A former federal public defender. And from a family of public school educators and police officers. A consensus builder. Since she’s been nominated, she’s received a broad range of support—from the Fraternal Order of Police to former judges appointed by Democrats and Republicans. \\n\\nAnd if we are to advance liberty and justice, we need to secure the Border and fix the immigration system. \\n\\nWe can do both. At our border, we’ve installed new technology like cutting-edge scanners to better detect drug smuggling.  \\n\\nWe’ve set up joint patrols with Mexico and Guatemala to catch more human traffickers.'),\n",
       " Document(page_content='We’ve set up joint patrols with Mexico and Guatemala to catch more human traffickers.  \\n\\nWe’re putting in place dedicated immigration judges so families fleeing persecution and violence can have their cases heard faster. \\n\\nWe’re securing commitments and supporting partners in South and Central America to host more refugees and secure their own borders. \\n\\nWe can do all this while keeping lit the torch of liberty that has led generations of immigrants to this land—my forefathers and so many of yours. \\n\\nProvide a pathway to citizenship for Dreamers, those on temporary status, farm workers, and essential workers. \\n\\nRevise our laws so businesses have the workers they need and families don’t wait decades to reunite. \\n\\nIt’s not only the right thing to do—it’s the economically smart thing to do. \\n\\nThat’s why immigration reform is supported by everyone from labor unions to religious leaders to the U.S. Chamber of Commerce. \\n\\nLet’s get it done once and for all.'),\n",
       " Document(page_content='Let’s get it done once and for all. \\n\\nAdvancing liberty and justice also requires protecting the rights of women. \\n\\nThe constitutional right affirmed in Roe v. Wade—standing precedent for half a century—is under attack as never before. \\n\\nIf we want to go forward—not backward—we must protect access to health care. Preserve a woman’s right to choose. And let’s continue to advance maternal health care in America. \\n\\nAnd for our LGBTQ+ Americans, let’s finally get the bipartisan Equality Act to my desk. The onslaught of state laws targeting transgender Americans and their families is wrong. \\n\\nAs I said last year, especially to our younger transgender Americans, I will always have your back as your President, so you can be yourself and reach your God-given potential.'),\n",
       " Document(page_content='While it often appears that we never agree, that isn’t true. I signed 80 bipartisan bills into law last year. From preventing government shutdowns to protecting Asian-Americans from still-too-common hate crimes to reforming military justice. \\n\\nAnd soon, we’ll strengthen the Violence Against Women Act that I first wrote three decades ago. It is important for us to show the nation that we can come together and do big things. \\n\\nSo tonight I’m offering a Unity Agenda for the Nation. Four big things we can do together.  \\n\\nFirst, beat the opioid epidemic. \\n\\nThere is so much we can do. Increase funding for prevention, treatment, harm reduction, and recovery.  \\n\\nGet rid of outdated rules that stop doctors from prescribing treatments. And stop the flow of illicit drugs by working with state and local law enforcement to go after traffickers. \\n\\nIf you’re suffering from addiction, know you are not alone. I believe in recovery, and I celebrate the 23 million Americans in recovery.'),\n",
       " Document(page_content='Second, let’s take on mental health. Especially among our children, whose lives and education have been turned upside down.  \\n\\nThe American Rescue Plan gave schools money to hire teachers and help students make up for lost learning.  \\n\\nI urge every parent to make sure your school does just that. And we can all play a part—sign up to be a tutor or a mentor. \\n\\nChildren were also struggling before the pandemic. Bullying, violence, trauma, and the harms of social media. \\n\\nAs Frances Haugen, who is here with us tonight, has shown, we must hold social media platforms accountable for the national experiment they’re conducting on our children for profit. \\n\\nIt’s time to strengthen privacy protections, ban targeted advertising to children, demand tech companies stop collecting personal data on our children. \\n\\nAnd let’s get all Americans the mental health services they need. More people they can turn to for help, and full parity between physical and mental health care.'),\n",
       " Document(page_content='Third, support our veterans. \\n\\nVeterans are the best of us. \\n\\nI’ve always believed that we have a sacred obligation to equip all those we send to war and care for them and their families when they come home. \\n\\nMy administration is providing assistance with job training and housing, and now helping lower-income veterans get VA care debt-free.  \\n\\nOur troops in Iraq and Afghanistan faced many dangers. \\n\\nOne was stationed at bases and breathing in toxic smoke from “burn pits” that incinerated wastes of war—medical and hazard material, jet fuel, and more. \\n\\nWhen they came home, many of the world’s fittest and best trained warriors were never the same. \\n\\nHeadaches. Numbness. Dizziness. \\n\\nA cancer that would put them in a flag-draped coffin. \\n\\nI know. \\n\\nOne of those soldiers was my son Major Beau Biden. \\n\\nWe don’t know for sure if a burn pit was the cause of his brain cancer, or the diseases of so many of our troops. \\n\\nBut I’m committed to finding out everything we can.'),\n",
       " Document(page_content='But I’m committed to finding out everything we can. \\n\\nCommitted to military families like Danielle Robinson from Ohio. \\n\\nThe widow of Sergeant First Class Heath Robinson.  \\n\\nHe was born a soldier. Army National Guard. Combat medic in Kosovo and Iraq. \\n\\nStationed near Baghdad, just yards from burn pits the size of football fields. \\n\\nHeath’s widow Danielle is here with us tonight. They loved going to Ohio State football games. He loved building Legos with their daughter. \\n\\nBut cancer from prolonged exposure to burn pits ravaged Heath’s lungs and body. \\n\\nDanielle says Heath was a fighter to the very end. \\n\\nHe didn’t know how to stop fighting, and neither did she. \\n\\nThrough her pain she found purpose to demand we do better. \\n\\nTonight, Danielle—we are. \\n\\nThe VA is pioneering new ways of linking toxic exposures to diseases, already helping more veterans get benefits. \\n\\nAnd tonight, I’m announcing we’re expanding eligibility to veterans suffering from nine respiratory cancers.'),\n",
       " Document(page_content='I’m also calling on Congress: pass a law to make sure veterans devastated by toxic exposures in Iraq and Afghanistan finally get the benefits and comprehensive health care they deserve. \\n\\nAnd fourth, let’s end cancer as we know it. \\n\\nThis is personal to me and Jill, to Kamala, and to so many of you. \\n\\nCancer is the #2 cause of death in America–second only to heart disease. \\n\\nLast month, I announced our plan to supercharge  \\nthe Cancer Moonshot that President Obama asked me to lead six years ago. \\n\\nOur goal is to cut the cancer death rate by at least 50% over the next 25 years, turn more cancers from death sentences into treatable diseases.  \\n\\nMore support for patients and families. \\n\\nTo get there, I call on Congress to fund ARPA-H, the Advanced Research Projects Agency for Health. \\n\\nIt’s based on DARPA—the Defense Department project that led to the Internet, GPS, and so much more.  \\n\\nARPA-H will have a singular purpose—to drive breakthroughs in cancer, Alzheimer’s, diabetes, and more.'),\n",
       " Document(page_content='A unity agenda for the nation. \\n\\nWe can do this. \\n\\nMy fellow Americans—tonight , we have gathered in a sacred space—the citadel of our democracy. \\n\\nIn this Capitol, generation after generation, Americans have debated great questions amid great strife, and have done great things. \\n\\nWe have fought for freedom, expanded liberty, defeated totalitarianism and terror. \\n\\nAnd built the strongest, freest, and most prosperous nation the world has ever known. \\n\\nNow is the hour. \\n\\nOur moment of responsibility. \\n\\nOur test of resolve and conscience, of history itself. \\n\\nIt is in this moment that our character is formed. Our purpose is found. Our future is forged. \\n\\nWell I know this nation.  \\n\\nWe will meet the test. \\n\\nTo protect freedom and liberty, to expand fairness and opportunity. \\n\\nWe will save democracy. \\n\\nAs hard as these times have been, I am more optimistic about America today than I have been my whole life. \\n\\nBecause I see the future that is within our grasp.'),\n",
       " Document(page_content='Because I see the future that is within our grasp. \\n\\nBecause I know there is simply nothing beyond our capacity. \\n\\nWe are the only nation on Earth that has always turned every crisis we have faced into an opportunity. \\n\\nThe only nation that can be defined by a single word: possibilities. \\n\\nSo on this night, in our 245th year as a nation, I have come to report on the State of the Union. \\n\\nAnd my report is this: the State of the Union is strong—because you, the American people, are strong. \\n\\nWe are stronger today than we were a year ago. \\n\\nAnd we will be stronger a year from now than we are today. \\n\\nNow is our moment to meet and overcome the challenges of our time. \\n\\nAnd we will, as one people. \\n\\nOne America. \\n\\nThe United States of America. \\n\\nMay God bless you all. May God protect our troops.')]"
      ]
     },
     "execution_count": 25,
     "metadata": {},
     "output_type": "execute_result"
    }
   ],
   "source": [
    "text_splitter.create_documents([state_of_the_union])"
   ]
  },
  {
   "cell_type": "code",
   "execution_count": 26,
   "metadata": {},
   "outputs": [
    {
     "name": "stdout",
     "output_type": "stream",
     "text": [
      "2 / 278[ 목 차 ]\n",
      "약관이용 Guide Book 6\n",
      "쉽게 이해하는 상품 및 약관 요약서 9\n",
      "자주 발생하는 민원 예시 24\n",
      "보험용어 해설 27\n",
      "개인신용정보 제공·이용에 대한 고객 권리 안내문 28\n",
      "보통약관 29\n",
      "      제1관 목적 및 용어의 정의 31\n",
      "        제1조 (목적) 31\n",
      "        제2조 (용어의 정의) 31\n",
      "      제2관 보험금의 지급 31\n",
      "        제3조 (보험금의 지급사유) 31\n",
      "        제4조 (보험금 지급에 관한 세부규정) 32\n",
      "        제5조 (보험금을 지급하지 않는 사유) 33\n",
      "        제6조 (보험금 지급사유의 통지) 33\n",
      "        제7조 (보험금의 청구) 33\n",
      "        제8조 (보험금의 지급절차) 34\n",
      "        제9조 (공시이율의 적용 및 공시) 34\n",
      "        제10조 (만기환급금의 지급) 35\n",
      "        제11조 (보험금 받는 방법의 변경) 35\n",
      "        제12조 (주소변경통지) 35\n",
      "        제13조 (보험수익자의 지정) 35\n",
      "        제14조 (대표자의 지정) 35\n",
      "      제3관 계약자의 계약 전 알릴 의무 등 36\n",
      "        제15조 (계약 전 알릴 의무) 36\n",
      "        제16조 (상해보험계약 후 알릴 의무) 36\n",
      "        제17조 (알릴 의무 위반의 효과) 37        제18조 (사기에 의한 계약) 38\n",
      "      제4관 보험계약의 성립과 유지 38\n",
      "        제19조 (보험계약의 성립) 38\n",
      "        제20조 (청약의 철회) 38\n",
      "        제21조 (약관교부 및 설명의무 등) 39\n",
      "        제22조 (계약의 무효) 40\n",
      "        제23조 (계약내용의 변경 등) 40\n",
      "        제24조 (보험나이 등) 41\n",
      "        제25조 (계약의 소멸) 41\n",
      "      제5관 보험료의 납입 41\n",
      "        제26조 (제1회 보험료 및 회사의 보장개시) 41\n",
      "        제27조 (제2회 이후 보험료의 납입) 41\n",
      "        제28조 (보험료의 자동대출납입) 42\n",
      "        제29조 (보험료의 납입이 연체되는 경우 납입최고(독촉)와 \n",
      "                     계약의 해지) 42\n",
      "        제30조 (보험료의 납입을 연체하여 해지된 계약의 \n",
      "                     부활(효력회복)) 42\n",
      "        제31조 (강제집행 등으로 인하여 해지된 계약의 \n",
      "                     특별부활(효력회복)) 43\n",
      "      제6관 계약의 해지 및 해약환급금 등 43\n",
      "        제32조 (계약자의 임의해지 및 피보험자의 서면동의 철회권) 43\n",
      "        제32조의2 (위법계약의 해지) 43\n",
      "        제33조 (중대사유로 인한 해지) 44\n",
      "        제34조 (회사의 파산선고와 해지) 44\n",
      "        제35조 (해약환급금) 44\n",
      "        제36조 (보험계약대출) 44\n",
      "        제37조 (배당금의 지급) 44\n"
     ]
    }
   ],
   "source": [
    "# PDF 분할하기\n",
    "print(pages[1].page_content)"
   ]
  },
  {
   "cell_type": "code",
   "execution_count": 27,
   "metadata": {},
   "outputs": [],
   "source": [
    "from langchain.text_splitter import CharacterTextSplitter\n",
    "text_splitter = CharacterTextSplitter(\n",
    "    separator='\\n',\n",
    "    chunk_size=1000,\n",
    "    chunk_overlap=100,\n",
    "    length_function=len,\n",
    ")"
   ]
  },
  {
   "cell_type": "code",
   "execution_count": 28,
   "metadata": {},
   "outputs": [],
   "source": [
    "# txt와 다르게 split_text이 아닌 split_documents를 활용한다.\n",
    "texts = text_splitter.split_documents(pages)"
   ]
  },
  {
   "cell_type": "code",
   "execution_count": 29,
   "metadata": {},
   "outputs": [
    {
     "name": "stdout",
     "output_type": "stream",
     "text": [
      "2 / 278[ 목 차 ]\n",
      "약관이용 Guide Book 6\n",
      "쉽게 이해하는 상품 및 약관 요약서 9\n",
      "자주 발생하는 민원 예시 24\n",
      "보험용어 해설 27\n",
      "개인신용정보 제공·이용에 대한 고객 권리 안내문 28\n",
      "보통약관 29\n",
      "      제1관 목적 및 용어의 정의 31\n",
      "        제1조 (목적) 31\n",
      "        제2조 (용어의 정의) 31\n",
      "      제2관 보험금의 지급 31\n",
      "        제3조 (보험금의 지급사유) 31\n",
      "        제4조 (보험금 지급에 관한 세부규정) 32\n",
      "        제5조 (보험금을 지급하지 않는 사유) 33\n",
      "        제6조 (보험금 지급사유의 통지) 33\n",
      "        제7조 (보험금의 청구) 33\n",
      "        제8조 (보험금의 지급절차) 34\n",
      "        제9조 (공시이율의 적용 및 공시) 34\n",
      "        제10조 (만기환급금의 지급) 35\n",
      "        제11조 (보험금 받는 방법의 변경) 35\n",
      "        제12조 (주소변경통지) 35\n",
      "        제13조 (보험수익자의 지정) 35\n",
      "        제14조 (대표자의 지정) 35\n",
      "      제3관 계약자의 계약 전 알릴 의무 등 36\n",
      "        제15조 (계약 전 알릴 의무) 36\n",
      "        제16조 (상해보험계약 후 알릴 의무) 36\n",
      "        제17조 (알릴 의무 위반의 효과) 37        제18조 (사기에 의한 계약) 38\n",
      "      제4관 보험계약의 성립과 유지 38\n",
      "        제19조 (보험계약의 성립) 38\n",
      "        제20조 (청약의 철회) 38\n",
      "        제21조 (약관교부 및 설명의무 등) 39\n",
      "        제22조 (계약의 무효) 40\n",
      "        제23조 (계약내용의 변경 등) 40\n",
      "        제24조 (보험나이 등) 41\n",
      "        제25조 (계약의 소멸) 41\n",
      "      제5관 보험료의 납입 41\n",
      "        제26조 (제1회 보험료 및 회사의 보장개시) 41\n"
     ]
    }
   ],
   "source": [
    "print(texts[1].page_content)"
   ]
  },
  {
   "cell_type": "markdown",
   "metadata": {},
   "source": [
    "## RecursiveCharacterTextSplitter\n",
    "* 줄바꿈, 마침표, 쉼표 순으로 재귀적으로 분할하므로, max_token을 지키며 분할"
   ]
  },
  {
   "cell_type": "code",
   "execution_count": 32,
   "metadata": {},
   "outputs": [],
   "source": [
    "from langchain.text_splitter import RecursiveCharacterTextSplitter\n",
    "text_splitter = RecursiveCharacterTextSplitter(\n",
    "    chunk_size = 1000,\n",
    "    chunk_overlap = 200,\n",
    "    length_function = len,\n",
    ")"
   ]
  },
  {
   "cell_type": "code",
   "execution_count": 33,
   "metadata": {},
   "outputs": [
    {
     "name": "stdout",
     "output_type": "stream",
     "text": [
      "Madam Speaker, Madam Vice President, our First Lady and Second Gentleman. Members of Congress and the Cabinet. Justices of the Supreme Court. My fellow Americans.  \n",
      "\n",
      "Last year COVID-19 kept us apart. This year we are finally together again. \n",
      "\n",
      "Tonight, we meet as Democrats Republicans and Independents. But most importantly as Americans. \n",
      "\n",
      "With a duty to one another to the American people to the Constitution. \n",
      "\n",
      "And with an unwavering resolve that freedom will always triumph over tyranny. \n",
      "\n",
      "Six days ago, Russia’s Vladimir Putin sought to shake the foundations of the free world thinking he could make it bend to his menacing ways. But he badly miscalculated. \n",
      "\n",
      "He thought he could roll into Ukraine and the world would roll over. Instead he met a wall of strength he never imagined. \n",
      "\n",
      "He met the Ukrainian people. \n",
      "\n",
      "From President Zelenskyy to every Ukrainian, their fearlessness, their courage, their determination, inspires the world.\n",
      "\n",
      "He met the Ukrainian people. \n",
      "\n",
      "From President Zelenskyy to every Ukrainian, their fearlessness, their courage, their determination, inspires the world. \n",
      "\n",
      "Groups of citizens blocking tanks with their bodies. Everyone from students to retirees teachers turned soldiers defending their homeland. \n",
      "\n",
      "In this struggle as President Zelenskyy said in his speech to the European Parliament “Light will win over darkness.” The Ukrainian Ambassador to the United States is here tonight. \n",
      "\n",
      "Let each of us here tonight in this Chamber send an unmistakable signal to Ukraine and to the world. \n",
      "\n",
      "Please rise if you are able and show that, Yes, we the United States of America stand with the Ukrainian people. \n",
      "\n",
      "Throughout our history we’ve learned this lesson when dictators do not pay a price for their aggression they cause more chaos.   \n",
      "\n",
      "They keep moving.   \n",
      "\n",
      "And the costs and the threats to America and the world keep rising.\n"
     ]
    }
   ],
   "source": [
    "texts = text_splitter.create_documents([state_of_the_union])\n",
    "print(texts[0].page_content)\n",
    "print()\n",
    "print(texts[1].page_content)"
   ]
  },
  {
   "cell_type": "code",
   "execution_count": 35,
   "metadata": {},
   "outputs": [
    {
     "name": "stdout",
     "output_type": "stream",
     "text": [
      "[939, 916, 994, 874, 906, 923, 951, 967, 952, 930, 962, 956, 973, 974, 858, 973, 993, 958, 978, 956, 842, 889, 942, 975, 974, 892, 977, 958, 951, 924, 975, 966, 908, 980, 847, 922, 931, 975, 954, 771, 838, 932, 957, 966, 930, 902, 911, 939, 581]\n"
     ]
    }
   ],
   "source": [
    "char_list = list()\n",
    "for text in texts:\n",
    "    char_list.append(len(text.page_content))\n",
    "print(char_list)"
   ]
  },
  {
   "cell_type": "code",
   "execution_count": 39,
   "metadata": {},
   "outputs": [
    {
     "data": {
      "text/plain": [
       "682"
      ]
     },
     "execution_count": 39,
     "metadata": {},
     "output_type": "execute_result"
    }
   ],
   "source": [
    "texts = text_splitter.split_documents(pages)\n",
    "# 278쪽 분량의 pdf가 682로 스플리터 되었다.\n",
    "len(texts)"
   ]
  },
  {
   "cell_type": "code",
   "execution_count": 40,
   "metadata": {},
   "outputs": [
    {
     "name": "stdout",
     "output_type": "stream",
     "text": [
      "[78, 978, 705, 982, 969, 221, 930, 964, 240, 531, 996, 994, 705, 970, 263, 949, 989, 425, 996, 349, 997, 487, 988, 483, 951, 952, 286, 974, 274, 997, 454, 672, 548, 995, 696, 989, 220, 985, 480, 995, 428, 988, 740, 895, 958, 626, 986, 961, 952, 645, 69, 33, 943, 979, 775, 984, 994, 955, 244, 991, 993, 848, 954, 978, 984, 978, 960, 865, 963, 985, 530, 968, 958, 970, 509, 992, 989, 934, 954, 987, 992, 181, 958, 949, 998, 338, 959, 951, 836, 956, 977, 999, 385, 979, 950, 988, 332, 974, 948, 950, 244, 996, 982, 628, 411, 69, 13, 957, 979, 907, 135, 975, 951, 844, 972, 980, 977, 481, 912, 961, 980, 977, 587, 806, 783, 864, 800, 950, 976, 716, 141, 970, 451, 982, 990, 589, 266, 980, 974, 332, 971, 953, 958, 960, 876, 952, 955, 998, 261, 471, 961, 993, 931, 993, 964, 930, 266, 988, 977, 830, 787, 988, 988, 729, 788, 988, 991, 824, 375, 973, 983, 374, 986, 995, 825, 845, 989, 979, 571, 971, 978, 684, 984, 979, 580, 995, 979, 580, 992, 957, 803, 983, 679, 975, 971, 697, 248, 960, 864, 960, 865, 961, 755, 949, 954, 913, 994, 989, 653, 995, 998, 318, 977, 967, 708, 82, 13, 990, 614, 989, 975, 745, 96, 989, 991, 842, 145, 956, 995, 978, 194, 973, 983, 995, 197, 290, 952, 965, 929, 504, 969, 953, 955, 247, 266, 15, 976, 973, 991, 194, 961, 955, 896, 161, 985, 986, 955, 960, 898, 988, 959, 965, 292, 193, 953, 987, 958, 262, 136, 959, 995, 680, 970, 967, 998, 488, 998, 988, 178, 967, 993, 974, 451, 962, 978, 945, 231, 981, 985, 988, 387, 979, 823, 977, 994, 799, 978, 975, 985, 584, 995, 964, 816, 999, 982, 738, 877, 995, 947, 727, 972, 969, 706, 969, 943, 888, 671, 985, 967, 745, 135, 976, 962, 980, 221, 975, 968, 779, 751, 972, 989, 880, 958, 975, 720, 999, 187, 991, 956, 802, 990, 950, 754, 947, 998, 954, 719, 968, 988, 836, 22, 955, 993, 953, 978, 991, 783, 76, 968, 962, 488, 995, 986, 881, 603, 977, 985, 997, 174, 996, 976, 685, 984, 674, 15, 944, 958, 959, 958, 976, 855, 982, 961, 980, 234, 975, 995, 823, 949, 986, 862, 961, 992, 997, 270, 983, 981, 790, 970, 986, 979, 441, 955, 990, 374, 11, 989, 992, 996, 375, 998, 907, 873, 978, 971, 479, 729, 957, 952, 584, 973, 946, 895, 24, 2, 904, 965, 993, 680, 984, 993, 950, 319, 993, 976, 509, 998, 988, 890, 999, 989, 492, 986, 964, 991, 280, 993, 711, 975, 979, 973, 954, 983, 923, 991, 974, 577, 993, 647, 954, 958, 958, 352, 982, 962, 964, 448, 562, 980, 987, 513, 979, 993, 695, 981, 945, 564, 988, 973, 582, 993, 969, 432, 966, 994, 966, 279, 686, 961, 335, 990, 342, 979, 495, 981, 278, 963, 491, 980, 634, 419, 960, 326, 807, 851, 505, 672, 553, 616, 1000, 286, 983, 966, 971, 542, 975, 698, 972, 226, 909, 997, 789, 652, 271, 183, 981, 535, 969, 833, 968, 978, 993, 965, 989, 972, 976, 991, 876, 955, 951, 389, 983, 990, 494, 990, 974, 968, 333, 973, 945, 972, 274, 978, 967, 992, 402, 995, 947, 984, 469, 991, 973, 993, 425, 990, 993, 651, 959, 982, 774, 960, 986, 972, 991, 996, 793, 976, 977, 988, 619, 965, 964, 964, 417, 947, 971, 953, 708, 978, 985, 981, 974, 986, 549, 973, 957, 730, 992, 986, 794, 946, 976, 978, 341, 967, 975, 958, 576, 975, 974, 799, 958, 986, 670, 966, 982, 972, 357, 986, 991, 951, 411, 981, 960, 870, 981, 962, 509, 983, 978, 530, 949, 962, 981, 344, 982, 985, 578, 997, 405, 981, 987, 952, 959, 985, 975, 392, 969, 954, 998, 378, 992, 971, 966, 989, 965, 994, 526, 992, 950, 903, 955, 975, 970, 460, 998, 979, 785, 985, 983, 968, 512, 995, 983, 640, 979, 646, 7, 919, 999, 258, 142]\n"
     ]
    }
   ],
   "source": [
    "char_list = list()\n",
    "for text in texts:\n",
    "    char_list.append(len(text.page_content))\n",
    "print(char_list)"
   ]
  },
  {
   "cell_type": "markdown",
   "metadata": {},
   "source": [
    "## 기타 Splitter\n",
    "Python 과 같은 코드를 splitter하기 위해서는 줄바꿈을 기준으로 하면 안되고 def, class와 같이 하나의 단위로 묶이는 것을 기준으로 문서를 분할할 필요가 있다.<br>\n",
    "코드 외에도 Latex, HTML 등 다양한 문서도 분할이 가능하다."
   ]
  },
  {
   "cell_type": "code",
   "execution_count": 41,
   "metadata": {},
   "outputs": [],
   "source": [
    "from langchain.text_splitter import (\n",
    "    RecursiveCharacterTextSplitter,\n",
    "    Language,\n",
    ")"
   ]
  },
  {
   "cell_type": "code",
   "execution_count": 42,
   "metadata": {},
   "outputs": [
    {
     "data": {
      "text/plain": [
       "['\\nclass ', '\\ndef ', '\\n\\tdef ', '\\n\\n', '\\n', ' ', '']"
      ]
     },
     "execution_count": 42,
     "metadata": {},
     "output_type": "execute_result"
    }
   ],
   "source": [
    "RecursiveCharacterTextSplitter.get_separators_for_language(Language.PYTHON)"
   ]
  },
  {
   "cell_type": "code",
   "execution_count": 43,
   "metadata": {},
   "outputs": [
    {
     "data": {
      "text/plain": [
       "[Document(page_content='def hello_world():\\n    print(\"Hello World\")'),\n",
       " Document(page_content='hello_world()')]"
      ]
     },
     "execution_count": 43,
     "metadata": {},
     "output_type": "execute_result"
    }
   ],
   "source": [
    "PYTHON_CODE = \"\"\"\n",
    "def hello_world():\n",
    "    print(\"Hello World\")\n",
    "\n",
    "hello_world()\n",
    "\"\"\"\n",
    "\n",
    "python_splitter = RecursiveCharacterTextSplitter.from_language(\n",
    "    language=Language.PYTHON,\n",
    "    chunk_size=50,\n",
    "    chunk_overlap=0\n",
    ")\n",
    "\n",
    "python_docs = python_splitter.create_documents([PYTHON_CODE])\n",
    "python_docs"
   ]
  },
  {
   "cell_type": "markdown",
   "metadata": {},
   "source": [
    "## 토큰 단위 텍스트 분할기\n",
    "근본적인 텍스트 분할의 목적은 LLM이 소화가능한 토큰 양으로 제한하기 위함이므로 글자 수가 아닌 Embedder를 기반으로 토큰 수를 계산해야한다.<br>\n",
    "OpenAI의 GPT 모델은 tiktoken이라는 토크나이저를 기반으로 텍스트를 토큰화하므로 tiktoken encoder를 기반으로 텍스트를 토큰화하고 이를 기준으로 텍스트를 분할해야한다. "
   ]
  },
  {
   "cell_type": "code",
   "execution_count": 45,
   "metadata": {},
   "outputs": [],
   "source": [
    "import tiktoken\n",
    "tokenizer = tiktoken.get_encoding('cl100k_base')\n",
    "\n",
    "def tiktoken_len(text):\n",
    "    tokens=tokenizer.encode(text)\n",
    "    return len(tokens)"
   ]
  },
  {
   "cell_type": "code",
   "execution_count": 46,
   "metadata": {},
   "outputs": [
    {
     "data": {
      "text/plain": [
       "749"
      ]
     },
     "execution_count": 46,
     "metadata": {},
     "output_type": "execute_result"
    }
   ],
   "source": [
    "tiktoken_len(texts[1].page_content)"
   ]
  },
  {
   "cell_type": "code",
   "execution_count": 47,
   "metadata": {},
   "outputs": [],
   "source": [
    "text_splitter = RecursiveCharacterTextSplitter(\n",
    "    chunk_size=1000,\n",
    "    chunk_overlap = 0,\n",
    "    length_function = tiktoken_len,\n",
    ")\n",
    "\n",
    "texts = text_splitter.split_documents(pages)"
   ]
  },
  {
   "cell_type": "code",
   "execution_count": 48,
   "metadata": {},
   "outputs": [
    {
     "name": "stdout",
     "output_type": "stream",
     "text": [
      "1333\n",
      "992\n"
     ]
    }
   ],
   "source": [
    "print(len(texts[1].page_content))\n",
    "print(tiktoken_len(texts[1].page_content))"
   ]
  },
  {
   "cell_type": "code",
   "execution_count": 49,
   "metadata": {},
   "outputs": [
    {
     "name": "stdout",
     "output_type": "stream",
     "text": [
      "[78, 1333, 156, 1058, 780, 1043, 750, 531, 996, 1319, 179, 1060, 949, 1015, 211, 1072, 83, 979, 320, 938, 334, 1047, 799, 974, 79, 983, 293, 672, 548, 995, 503, 1025, 967, 301, 941, 288, 940, 590, 895, 958, 626, 901, 84, 1018, 1103, 70, 69, 33, 1048, 1004, 266, 930, 994, 786, 1046, 997, 442, 1001, 970, 582, 978, 1005, 460, 1010, 1018, 62, 968, 992, 932, 978, 990, 605, 1009, 1047, 560, 1015, 1054, 618, 1108, 1046, 218, 1010, 1010, 784, 919, 938, 886, 1027, 986, 566, 996, 1009, 246, 411, 69, 13, 904, 1004, 586, 135, 962, 988, 484, 972, 996, 948, 912, 961, 995, 1000, 806, 783, 864, 800, 950, 992, 366, 141, 944, 292, 932, 931, 367, 266, 927, 996, 8, 971, 805, 958, 997, 498, 952, 965, 675, 471, 961, 989, 584, 937, 988, 633, 266, 988, 943, 485, 787, 988, 990, 357, 788, 988, 1008, 476, 375, 973, 931, 82, 932, 1022, 489, 845, 1004, 966, 240, 971, 1000, 294, 984, 966, 249, 970, 990, 249, 1019, 1023, 353, 983, 479, 1028, 944, 322, 248, 901, 760, 901, 761, 961, 563, 949, 1019, 518, 968, 1048, 278, 943, 987, 977, 991, 295, 82, 13, 1037, 431, 936, 994, 418, 96, 934, 962, 555, 145, 903, 945, 726, 194, 920, 940, 717, 290, 847, 941, 721, 504, 916, 964, 752, 266, 15, 976, 984, 658, 961, 997, 507, 161, 932, 982, 632, 960, 710, 988, 962, 750, 193, 953, 964, 702, 136, 959, 954, 389, 970, 982, 953, 1009, 821, 967, 1043, 823, 1020, 1024, 558, 981, 985, 980, 22, 979, 662, 1008, 1041, 340, 978, 929, 1012, 293, 971, 929, 514, 1053, 990, 384, 877, 932, 974, 423, 972, 935, 348, 1032, 1009, 398, 671, 985, 1000, 343, 135, 952, 950, 727, 975, 984, 379, 751, 972, 979, 525, 958, 999, 328, 987, 22, 935, 973, 477, 990, 1000, 367, 947, 977, 952, 367, 968, 990, 537, 22, 955, 963, 608, 978, 986, 428, 76, 941, 980, 136, 928, 992, 573, 603, 977, 989, 611, 942, 994, 364, 984, 495, 15, 1000, 1013, 484, 958, 968, 488, 1003, 1019, 602, 1000, 1042, 396, 1001, 983, 493, 1024, 1026, 699, 1037, 1035, 291, 970, 965, 940, 9, 955, 996, 11, 989, 1004, 837, 982, 727, 873, 978, 989, 100, 729, 1012, 1000, 105, 832, 1000, 636, 24, 2, 904, 965, 1035, 309, 1160, 1007, 560, 993, 1018, 96, 1040, 1023, 435, 941, 906, 287, 986, 911, 870, 1058, 485, 1106, 1082, 384, 1097, 991, 387, 934, 987, 264, 993, 463, 1023, 1002, 654, 982, 1005, 834, 562, 980, 974, 175, 928, 956, 451, 917, 935, 292, 969, 893, 319, 871, 899, 247, 931, 856, 1020, 49, 686, 1017, 104, 990, 159, 1278, 981, 103, 1258, 957, 493, 419, 1017, 103, 807, 851, 505, 672, 553, 616, 899, 217, 983, 864, 868, 446, 873, 648, 918, 120, 909, 941, 660, 652, 271, 183, 899, 419, 969, 636, 1021, 1015, 579, 1020, 1050, 486, 1028, 1008, 460, 1032, 889, 983, 978, 166, 990, 1090, 636, 1036, 1045, 523, 978, 928, 891, 995, 998, 893, 986, 1018, 856, 1025, 998, 242, 1041, 1102, 188, 1161, 1073, 352, 1022, 987, 397, 1078, 1071, 913, 1139, 1058, 588, 1052, 973, 980, 978, 1008, 609, 1012, 947, 180, 1023, 988, 308, 992, 1076, 369, 925, 926, 868, 967, 1051, 953, 1045, 1013, 330, 958, 1043, 254, 1014, 1062, 677, 1109, 1036, 689, 1006, 1038, 403, 913, 1007, 162, 1006, 1053, 73, 1002, 943, 745, 1008, 942, 254, 818, 388, 981, 1030, 575, 1011, 1000, 798, 1089, 1015, 653, 992, 1020, 601, 1022, 1039, 922, 1014, 1094, 397, 1092, 1133, 640, 950, 963, 496, 1037, 981, 974, 1012, 1012, 256, 979, 474, 7, 783, 135, 815, 258, 142]\n"
     ]
    }
   ],
   "source": [
    "token_list = list()\n",
    "for text in texts:\n",
    "    token_list.append(len(text.page_content))\n",
    "print(token_list)"
   ]
  },
  {
   "cell_type": "code",
   "execution_count": 50,
   "metadata": {},
   "outputs": [],
   "source": [
    "# 위 코드는 생성자를 직접 호출하는 반면, 본 코드는 팩토리 메소드를 사용합니다.\n",
    "text_splitter = RecursiveCharacterTextSplitter.from_tiktoken_encoder(\n",
    "    chunk_size=1000,\n",
    "    chunk_overlap=0,\n",
    ")\n",
    "\n",
    "texts = text_splitter.transform_documents(pages)"
   ]
  },
  {
   "cell_type": "code",
   "execution_count": 62,
   "metadata": {},
   "outputs": [
    {
     "name": "stdout",
     "output_type": "stream",
     "text": [
      "page_content='보험약관 이 약관은 금융소비자보호법 및 소비자보호 내부통제기준에 따른 절차를 거쳐 제공됩니다.운전자보험\\n2401.21무배당 삼성화재 다이렉트' metadata={'source': '/workspace/assets/doc/운전자보험상품약관.pdf', 'page': 0}\n",
      "====================================================================================================\n",
      "보험약관 이 약관은 금융소비자보호법 및 소비자보호 내부통제기준에 따른 절차를 거쳐 제공됩니다.운전자보험\n",
      "2401.21무배당 삼성화재 다이렉트\n",
      "====================================================================================================\n",
      "78\n",
      "====================================================================================================\n",
      "88\n"
     ]
    }
   ],
   "source": [
    "print(texts[0])\n",
    "print('='*100)\n",
    "print(texts[0].page_content)\n",
    "print('='*100)\n",
    "print(len(texts[0].page_content))\n",
    "print('='*100)\n",
    "print(tiktoken_len(texts[0].page_content))"
   ]
  },
  {
   "cell_type": "code",
   "execution_count": 63,
   "metadata": {},
   "outputs": [
    {
     "name": "stdout",
     "output_type": "stream",
     "text": [
      "[78, 648, 631, 201, 629, 549, 573, 63, 599, 552, 537, 93, 519, 11, 522, 458, 728, 771, 544, 512, 494, 452, 521, 707, 614, 540, 611, 508, 179, 529, 486, 254, 475, 524, 494, 342, 545, 508, 514, 538, 220, 542, 124, 548, 498, 509, 473, 525, 496, 503, 515, 247, 496, 496, 235, 533, 529, 467, 472, 421, 512, 442, 522, 102, 469, 486, 27, 492, 467, 520, 582, 124, 69, 33, 546, 510, 544, 477, 237, 517, 465, 495, 487, 497, 244, 464, 495, 485, 507, 520, 8, 481, 519, 463, 505, 476, 105, 470, 447, 454, 444, 488, 132, 500, 509, 498, 519, 62, 522, 444, 486, 505, 493, 437, 465, 512, 487, 502, 484, 119, 499, 508, 506, 505, 465, 126, 493, 463, 501, 486, 493, 248, 654, 515, 494, 514, 194, 485, 470, 456, 476, 479, 430, 460, 456, 496, 497, 496, 332, 483, 489, 492, 490, 506, 113, 512, 482, 499, 509, 246, 411, 69, 13, 467, 488, 515, 490, 488, 41, 135, 509, 495, 505, 491, 429, 520, 451, 489, 506, 478, 468, 493, 417, 524, 488, 498, 495, 476, 471, 503, 301, 513, 266, 511, 350, 530, 266, 471, 478, 473, 517, 366, 141, 519, 522, 194, 522, 459, 490, 517, 239, 266, 496, 481, 497, 455, 523, 491, 456, 301, 516, 483, 472, 494, 481, 505, 500, 478, 529, 483, 93, 471, 518, 486, 473, 518, 472, 64, 469, 465, 469, 469, 509, 172, 266, 530, 509, 441, 504, 428, 505, 281, 534, 504, 447, 491, 357, 505, 282, 474, 486, 501, 545, 462, 375, 490, 480, 472, 456, 82, 516, 503, 488, 465, 465, 494, 349, 495, 508, 532, 486, 186, 471, 498, 532, 509, 250, 479, 504, 532, 487, 194, 488, 506, 532, 487, 194, 515, 503, 469, 497, 408, 497, 485, 479, 490, 536, 504, 527, 229, 248, 469, 489, 501, 198, 469, 489, 502, 198, 507, 509, 506, 493, 454, 483, 487, 481, 82, 480, 487, 501, 491, 333, 472, 469, 505, 480, 477, 498, 517, 472, 295, 82, 13, 456, 533, 480, 502, 485, 536, 499, 323, 96, 484, 503, 487, 521, 452, 145, 468, 486, 484, 458, 515, 159, 194, 515, 456, 499, 472, 529, 104, 290, 470, 480, 502, 475, 515, 63, 504, 496, 471, 516, 482, 492, 170, 266, 15, 466, 508, 496, 486, 518, 139, 499, 459, 503, 493, 507, 161, 446, 484, 527, 523, 493, 65, 472, 487, 461, 247, 491, 495, 474, 486, 506, 242, 193, 455, 496, 470, 438, 494, 262, 136, 474, 483, 409, 505, 428, 451, 460, 453, 475, 457, 497, 100, 503, 504, 494, 324, 494, 521, 511, 528, 508, 263, 464, 495, 434, 492, 514, 196, 457, 467, 53, 463, 471, 481, 492, 76, 455, 462, 475, 245, 506, 501, 502, 500, 378, 472, 503, 457, 516, 504, 518, 236, 497, 496, 506, 520, 389, 529, 468, 507, 488, 429, 473, 403, 485, 520, 485, 512, 324, 519, 503, 525, 503, 201, 510, 509, 474, 465, 477, 475, 195, 483, 443, 455, 478, 463, 135, 468, 507, 492, 483, 507, 168, 518, 508, 520, 508, 278, 455, 294, 478, 493, 459, 517, 515, 9, 504, 452, 504, 493, 328, 459, 473, 76, 484, 502, 504, 548, 342, 499, 490, 497, 501, 367, 488, 457, 478, 497, 517, 479, 320, 501, 505, 489, 458, 473, 63, 22, 503, 450, 383, 505, 488, 191, 482, 494, 471, 459, 483, 76, 469, 498, 523, 488, 77, 478, 516, 464, 488, 471, 70, 465, 136, 461, 466, 450, 496, 474, 226, 506, 488, 499, 488, 314, 490, 437, 473, 76, 15, 522, 476, 573, 490, 432, 466, 490, 476, 490, 488, 491, 510, 457, 510, 524, 127, 449, 471, 520, 529, 468, 482, 465, 483, 492, 520, 28, 492, 522, 460, 484, 459, 327, 506, 474, 466, 471, 444, 494, 474, 438, 469, 488, 483, 31, 492, 518, 510, 429, 11, 496, 490, 453, 495, 473, 419, 460, 598, 507, 140, 565, 305, 505, 471, 453, 480, 153, 494, 233, 472, 484, 470, 492, 196, 484, 429, 493, 473, 468, 113, 24, 2, 497, 405, 497, 521, 486, 527, 276, 595, 514, 517, 540, 492, 66, 545, 502, 549, 509, 497, 511, 472, 530, 484, 552, 577, 508, 492, 489, 576, 524, 460, 500, 212, 565, 491, 485, 588, 553, 560, 541, 327, 558, 537, 524, 522, 333, 469, 520, 508, 471, 212, 508, 511, 435, 524, 550, 478, 513, 499, 107, 504, 554, 506, 531, 496, 227, 500, 59, 473, 504, 444, 482, 221, 497, 523, 514, 517, 280, 521, 515, 485, 525, 95, 509, 533, 516, 517, 101, 516, 516, 517, 466, 532, 535, 546, 170, 605, 464, 525, 159, 577, 543, 570, 579, 979, 298, 582, 501, 1008, 248, 569, 591, 288, 419, 578, 541, 553, 252, 597, 252, 505, 511, 159, 504, 48, 512, 103, 508, 500, 105, 578, 403, 465, 554, 560, 597, 474, 554, 491, 482, 558, 481, 427, 458, 480, 484, 174, 652, 271, 183, 530, 524, 262, 469, 548, 533, 53, 476, 543, 454, 504, 527, 104, 545, 609, 488, 462, 445, 523, 503, 507, 498, 460, 507, 523, 523, 363, 557, 568, 541, 459, 512, 475, 563, 524, 574, 61, 555, 480, 582, 483, 502, 470, 482, 458, 459, 471, 457, 496, 667, 564, 486, 485, 181, 482, 507, 565, 528, 517, 257, 530, 550, 584, 599, 539, 613, 599, 576, 653, 646, 558, 574, 151, 567, 561, 611, 539, 125, 477, 498, 498, 494, 472, 453, 165, 493, 471, 541, 484, 494, 303, 520, 478, 523, 464, 488, 464, 62, 596, 554, 513, 511, 414, 496, 579, 520, 542, 583, 480, 526, 561, 167, 534, 521, 486, 578, 315, 533, 468, 516, 493, 464, 240, 476, 546, 518, 550, 459, 419, 553, 490, 494, 541, 308, 493, 532, 502, 466, 254, 462, 453, 499, 479, 498, 357, 544, 511, 526, 471, 532, 244, 586, 472, 472, 513, 403, 465, 514, 502, 605, 570, 576, 609, 369, 534, 520, 482, 497, 483, 168, 494, 512, 620, 452, 124, 510, 515, 178, 518, 540, 573, 645, 305, 521, 541, 641, 506, 477, 122, 656, 616, 531, 476, 473, 516, 528, 513, 516, 535, 534, 538, 508, 529, 540, 325, 626, 516, 509, 497, 352, 498, 508, 516, 485, 500, 354, 458, 442, 469, 488, 479, 66, 489, 495, 473, 456, 465, 510, 96, 537, 472, 477, 524, 266, 507, 471, 474, 7, 462, 456, 453, 438, 181, 142]\n"
     ]
    }
   ],
   "source": [
    "token_list = list()\n",
    "for text in texts:\n",
    "    token_list.append(len(text.page_content))\n",
    "print(token_list)"
   ]
  },
  {
   "cell_type": "markdown",
   "metadata": {},
   "source": [
    "# Text Embedding"
   ]
  },
  {
   "cell_type": "markdown",
   "metadata": {},
   "source": [
    "### OpenAIEmbeddings-ada-002"
   ]
  },
  {
   "cell_type": "code",
   "execution_count": null,
   "metadata": {},
   "outputs": [],
   "source": []
  },
  {
   "cell_type": "markdown",
   "metadata": {},
   "source": [
    "### Huggingface Embedding"
   ]
  },
  {
   "cell_type": "code",
   "execution_count": null,
   "metadata": {},
   "outputs": [],
   "source": []
  },
  {
   "cell_type": "markdown",
   "metadata": {},
   "source": [
    "### 한국어 사전학습 모델 임베딩 - ko-sbert-nli"
   ]
  },
  {
   "cell_type": "code",
   "execution_count": 2,
   "metadata": {},
   "outputs": [],
   "source": [
    "from langchain.embeddings import HuggingFaceEmbeddings\n",
    "\n",
    "model_name = 'jhgan/ko-sbert-nli'\n",
    "model_kwargs = {'device': 'cuda'}\n",
    "encode_kwargs = {'normalize_embeddings': True}\n",
    "ko = HuggingFaceEmbeddings(\n",
    "    model_name=model_name,\n",
    "    model_kwargs=model_kwargs,\n",
    "    encode_kwargs=encode_kwargs\n",
    ")"
   ]
  },
  {
   "cell_type": "code",
   "execution_count": 9,
   "metadata": {},
   "outputs": [],
   "source": [
    "sentences = [\n",
    "    '안녕하세요',\n",
    "    '제 이름은 오상진입니다.',\n",
    "    '이름이 무엇인가요?'\n",
    "]\n",
    "\n",
    "ko_embeddings = ko.embed_documents(sentences)\n",
    "\n",
    "q1 = \"인사한 사람의 이름은 무엇인가?\"\n",
    "q2 = \"오상진은 인사했습니다.\"\n",
    "ko_query_q = ko.embed_query(q1)\n",
    "ko_query_a = ko.embed_query(q2)"
   ]
  },
  {
   "cell_type": "code",
   "execution_count": 10,
   "metadata": {},
   "outputs": [],
   "source": [
    "from numpy import dot\n",
    "from numpy.linalg import norm\n",
    "import numpy as np\n",
    "\n",
    "def cos_sim(A, B):\n",
    "    return dot(A,B)/(norm(A)+norm(B))"
   ]
  },
  {
   "cell_type": "code",
   "execution_count": 11,
   "metadata": {},
   "outputs": [
    {
     "name": "stdout",
     "output_type": "stream",
     "text": [
      "0.27686469626902294\n",
      "0.27655794984274734\n",
      "0.1934427268568582\n",
      "0.4104618084574707\n",
      "0.23915274777846937\n",
      "0.3640625164709636\n",
      "0.16314465867329564\n"
     ]
    }
   ],
   "source": [
    "print(cos_sim(ko_query_q, ko_query_a))\n",
    "print(cos_sim(ko_query_q, ko_embeddings[0]))\n",
    "print(cos_sim(ko_query_q, ko_embeddings[1]))\n",
    "print(cos_sim(ko_query_q, ko_embeddings[2]))\n",
    "print(cos_sim(ko_query_a, ko_embeddings[0]))\n",
    "print(cos_sim(ko_query_a, ko_embeddings[1]))\n",
    "print(cos_sim(ko_query_a, ko_embeddings[2]))\n"
   ]
  }
 ],
 "metadata": {
  "kernelspec": {
   "display_name": "Python 3",
   "language": "python",
   "name": "python3"
  },
  "language_info": {
   "codemirror_mode": {
    "name": "ipython",
    "version": 3
   },
   "file_extension": ".py",
   "mimetype": "text/x-python",
   "name": "python",
   "nbconvert_exporter": "python",
   "pygments_lexer": "ipython3",
   "version": "3.11.7"
  }
 },
 "nbformat": 4,
 "nbformat_minor": 2
}
